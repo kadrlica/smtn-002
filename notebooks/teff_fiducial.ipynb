{
 "cells": [
  {
   "cell_type": "markdown",
   "metadata": {},
   "source": [
    "# Finding fiducial magnitudes for $t_{\\mbox{eff}}$"
   ]
  },
  {
   "cell_type": "markdown",
   "metadata": {},
   "source": [
    "## Introduction"
   ]
  },
  {
   "cell_type": "markdown",
   "metadata": {},
   "source": [
    "$t_{\\mbox{eff}}$ is a measure of depth, related to limiting magnitude as:\n",
    "\n",
    "\\begin{align}\n",
    "t_{\\mbox{eff}} & = 10^{\\frac{4}{5}(m_\\circ - m_{\\mbox{lim}})} \\\\\n",
    "m_{\\mbox{lim}} & = m_\\circ + 1.25 \\log t_{\\mbox{eff}}\n",
    "\\end{align}\n",
    "\n",
    "such limiting magnitude varies with $t_{\\mbox{eff}}$ in the same way as it varies with exposure time.\n",
    "\n",
    "The constant $m_\\circ$ provides a reference point, defining at what magnitude $t_{\\mbox{eff}} = 1$, analogous to the constant reference magnitude in the definition of a magnitude system: accumulated $t_{\\mbox{eff}}$ represents the progress made toward reaching a target coadd limiting magnitude, as measured in exposure time under constant conditions. If $m_\\circ$ is the typical limiting magnitude for the instrument under real conditions, the difference between the accumulated $t_{\\mbox{eff}}$ and the $t_{\\mbox{eff}}$ corresponding to the target limiting magnitude is a good approximation of the total exposure time needed to attain the target limiting magnitude. If $m_\\circ$ is different from that typical for the instrument, then the remaining $t_{\\mbox{eff}}$ will be related to the remaining needed exposure time by a scaling factor. \n",
    "\n",
    "A reasonable fiducial magnitude for a given instrument is to define for $t_{\\mbox{eff}}=1$ for optimally pointing images under typical conditions: taken at zenith, during dark time, in typical seeing. With this fiducial magnitude, the remaining needed $t_{\\mbox{eff}}$ matches the remaining exposure time if optimally scheduled, and the target limiting magnitude varies with the zenith distance at transit.\n",
    "\n",
    "`opsim` provides a function, `m5_flat_sed`, to calculate the limiting magnitude (including various throughputs, etc.) under a given set of conditions (seeing, airmass, and sky brightness) using parameters provided by system engineering.\n",
    "\n",
    "The initial section of this notebook uses the mean log Fried parameter (according to the model described in RTN-022) to deteremine the seeing, the sky brightness model used by `opsim` in full dark conditions, zenith pointing (airmass=1), and `m5_flat_sed` to compute fiducial zero points for $t_{\\mbox{eff}}$.\n",
    "\n",
    "The later section of the notebook generates magnitude using different assumptions about the throughput, seeing, sky brightness, and airmass to trace the differences between magnitudes derived from the SRD and estimates based on the latest assumptions used by `opsim`."
   ]
  },
  {
   "cell_type": "markdown",
   "metadata": {},
   "source": [
    "For discussion related to this notebook and the resoning behind it, see the conversations in the `survey-strategy-team` LSSTC slack channel starting April 9, 2021 (around [here](https://lsstc.slack.com/archives/G6MP1HTDW/p1617997908069200)), through April 20th."
   ]
  },
  {
   "cell_type": "markdown",
   "metadata": {},
   "source": [
    "## Notebook setup"
   ]
  },
  {
   "cell_type": "markdown",
   "metadata": {},
   "source": [
    "### Logging"
   ]
  },
  {
   "cell_type": "markdown",
   "metadata": {},
   "source": [
    "Do it first so I can use logging to track how long imports take."
   ]
  },
  {
   "cell_type": "code",
   "execution_count": 1,
   "metadata": {},
   "outputs": [
    {
     "name": "stderr",
     "output_type": "stream",
     "text": [
      "2021-07-07 10:16:50,980 Starting\n"
     ]
    }
   ],
   "source": [
    "import logging\n",
    "logging.basicConfig(format='%(asctime)s %(message)s')\n",
    "logger = logging.getLogger(__name__)\n",
    "logger.setLevel('DEBUG')\n",
    "logger.info(\"Starting\")"
   ]
  },
  {
   "cell_type": "markdown",
   "metadata": {},
   "source": [
    "### Imports"
   ]
  },
  {
   "cell_type": "code",
   "execution_count": 2,
   "metadata": {},
   "outputs": [],
   "source": [
    "import os\n",
    "import os.path\n",
    "import copy\n",
    "import pickle\n",
    "import urllib\n",
    "from os import path\n",
    "from tempfile import TemporaryDirectory"
   ]
  },
  {
   "cell_type": "code",
   "execution_count": 3,
   "metadata": {},
   "outputs": [
    {
     "name": "stderr",
     "output_type": "stream",
     "text": [
      "2021-07-07 10:16:51,019 Loading common modules\n"
     ]
    }
   ],
   "source": [
    "logger.debug(\"Loading common modules\")\n",
    "import pandas as pd\n",
    "import numpy as np\n",
    "import matplotlib as mpl\n",
    "import matplotlib.pyplot as plt\n",
    "import sqlite3"
   ]
  },
  {
   "cell_type": "code",
   "execution_count": 4,
   "metadata": {},
   "outputs": [
    {
     "name": "stderr",
     "output_type": "stream",
     "text": [
      "2021-07-07 10:16:51,465 Loading general astronomy modules\n"
     ]
    }
   ],
   "source": [
    "logger.debug(\"Loading general astronomy modules\")\n",
    "import healpy\n",
    "import palpy\n",
    "import astropy\n",
    "import astropy.coordinates\n",
    "from astropy.coordinates import EarthLocation\n",
    "from astropy.time import Time\n",
    "import astropy.units as u"
   ]
  },
  {
   "cell_type": "code",
   "execution_count": 5,
   "metadata": {},
   "outputs": [
    {
     "name": "stderr",
     "output_type": "stream",
     "text": [
      "2021-07-07 10:16:51,843 Loading Rubin Observatory modules\n"
     ]
    }
   ],
   "source": [
    "logger.debug(\"Loading Rubin Observatory modules\")\n",
    "import rubin_sim\n",
    "import rubin_sim.site_models\n",
    "from rubin_sim.utils import m5_flat_sed\n",
    "from rubin_sim.site_models import SeeingData, SeeingModel\n",
    "from rubin_sim.site_models import CloudData\n",
    "from rubin_sim.skybrightness_pre import SkyModelPre"
   ]
  },
  {
   "cell_type": "markdown",
   "metadata": {},
   "source": [
    "### Plot setup"
   ]
  },
  {
   "cell_type": "code",
   "execution_count": 6,
   "metadata": {},
   "outputs": [],
   "source": [
    "mpl.rcParams['figure.figsize'] = (8, 5)\n",
    "plt.style.use('ggplot')\n",
    "np.random.seed(6563)"
   ]
  },
  {
   "cell_type": "markdown",
   "metadata": {},
   "source": [
    "### Constants"
   ]
  },
  {
   "cell_type": "code",
   "execution_count": 7,
   "metadata": {},
   "outputs": [],
   "source": [
    "sky_model = SkyModelPre()\n",
    "site = EarthLocation.of_site('Cerro Pachon')\n",
    "mean_log_r0 = -0.9163 ;# See RTN-022, table 1\n",
    "mjd_sample_rate = 0.01 ;# Every 0.01 days = every 14.4 minutes\n",
    "original_median_seeing500 = 0.62\n",
    "data_dir = '.'\n",
    "opsim_origin = 'https://lsst.ncsa.illinois.edu/sim-data/sims_featureScheduler_runs1.7/baseline/baseline_nexp2_v1.7_10yrs.db'"
   ]
  },
  {
   "cell_type": "code",
   "execution_count": 8,
   "metadata": {},
   "outputs": [
    {
     "data": {
      "text/html": [
       "<div>\n",
       "<style scoped>\n",
       "    .dataframe tbody tr th:only-of-type {\n",
       "        vertical-align: middle;\n",
       "    }\n",
       "\n",
       "    .dataframe tbody tr th {\n",
       "        vertical-align: top;\n",
       "    }\n",
       "\n",
       "    .dataframe thead th {\n",
       "        text-align: right;\n",
       "    }\n",
       "</style>\n",
       "<table border=\"1\" class=\"dataframe\">\n",
       "  <thead>\n",
       "    <tr style=\"text-align: right;\">\n",
       "      <th></th>\n",
       "      <th>band</th>\n",
       "      <th>min_wavelength</th>\n",
       "      <th>max_wavelength</th>\n",
       "    </tr>\n",
       "    <tr>\n",
       "      <th>band</th>\n",
       "      <th></th>\n",
       "      <th></th>\n",
       "      <th></th>\n",
       "    </tr>\n",
       "  </thead>\n",
       "  <tbody>\n",
       "    <tr>\n",
       "      <th>u</th>\n",
       "      <td>u</td>\n",
       "      <td>350.0</td>\n",
       "      <td>400.0</td>\n",
       "    </tr>\n",
       "    <tr>\n",
       "      <th>g</th>\n",
       "      <td>g</td>\n",
       "      <td>400.0</td>\n",
       "      <td>552.0</td>\n",
       "    </tr>\n",
       "    <tr>\n",
       "      <th>r</th>\n",
       "      <td>r</td>\n",
       "      <td>552.0</td>\n",
       "      <td>691.2</td>\n",
       "    </tr>\n",
       "    <tr>\n",
       "      <th>i</th>\n",
       "      <td>i</td>\n",
       "      <td>691.0</td>\n",
       "      <td>818.0</td>\n",
       "    </tr>\n",
       "    <tr>\n",
       "      <th>z</th>\n",
       "      <td>z</td>\n",
       "      <td>818.0</td>\n",
       "      <td>922.0</td>\n",
       "    </tr>\n",
       "    <tr>\n",
       "      <th>y</th>\n",
       "      <td>y</td>\n",
       "      <td>949.0</td>\n",
       "      <td>1060.0</td>\n",
       "    </tr>\n",
       "  </tbody>\n",
       "</table>\n",
       "</div>"
      ],
      "text/plain": [
       "     band  min_wavelength  max_wavelength\n",
       "band                                     \n",
       "u       u           350.0           400.0\n",
       "g       g           400.0           552.0\n",
       "r       r           552.0           691.2\n",
       "i       i           691.0           818.0\n",
       "z       z           818.0           922.0\n",
       "y       y           949.0          1060.0"
      ]
     },
     "execution_count": 8,
     "metadata": {},
     "output_type": "execute_result"
    }
   ],
   "source": [
    "bands = pd.DataFrame({\n",
    "    'band': ('u', 'g', 'r', 'i', 'z', 'y'),\n",
    "    'min_wavelength': (350.0, 400.0, 552.0, 691.0, 818.0, 949.0),\n",
    "    'max_wavelength': (400.0, 552.0, 691.2, 818.0, 922.0, 1060.0)}\n",
    ").set_index('band', drop=False)\n",
    "bands"
   ]
  },
  {
   "cell_type": "code",
   "execution_count": 9,
   "metadata": {},
   "outputs": [],
   "source": [
    "sun_cache_fname = 'sun_cache.pickle'\n",
    "moon_cache_fname = 'moon_cache.pickle'\n",
    "sky_cache_fname = 'sky_cache.pickle'\n",
    "sky_x12_cache_fname = 'sky_x12_cache.pickle'\n",
    "visit_cache = 'opsim_visits.h5'"
   ]
  },
  {
   "cell_type": "markdown",
   "metadata": {},
   "source": [
    "### Retrieving data"
   ]
  },
  {
   "cell_type": "code",
   "execution_count": 10,
   "metadata": {},
   "outputs": [
    {
     "name": "stderr",
     "output_type": "stream",
     "text": [
      "2021-07-07 10:16:52,167 Downloading https://lsst.ncsa.illinois.edu/sim-data/sims_featureScheduler_runs1.7/baseline/baseline_nexp2_v1.7_10yrs.db to ./tmpuuwbabty/baseline_nexp2_v1.7_10yrs.db\n",
      "2021-07-07 10:16:56,117 Download complete\n"
     ]
    },
    {
     "name": "stdout",
     "output_type": "stream",
     "text": [
      "Opsim data file downloaded to\n",
      "\t./tmpuuwbabty/baseline_nexp2_v1.7_10yrs.db\n",
      "which will be deleted when the notebook is restarted or closed.\n"
     ]
    }
   ],
   "source": [
    "if path.isfile(opsim_origin) or 'opsim_fname' in locals():\n",
    "    # Check for opsim_fname in locals so that if we rerun the notebook without restarting the kernel\n",
    "    # it will not re-download the data\n",
    "    opsim_fname = opsim_origin\n",
    "else:\n",
    "    opsim_data_dir = TemporaryDirectory(dir=data_dir)\n",
    "    opsim_fname = path.join(opsim_data_dir.name, opsim_origin.split('/')[-1])\n",
    "    logger.info(\"Downloading %s to %s\", opsim_origin, opsim_fname)\n",
    "    opsim_db_file = urllib.request.urlretrieve(opsim_origin, opsim_fname)\n",
    "    logger.info(\"Download complete\")\n",
    "    \n",
    "    print(f\"Opsim data file downloaded to\\n\\t{opsim_fname}\\nwhich will be deleted when the notebook is restarted or closed.\")"
   ]
  },
  {
   "cell_type": "code",
   "execution_count": 11,
   "metadata": {},
   "outputs": [],
   "source": [
    "opsim_name = os.path.splitext(os.path.split(opsim_fname)[-1])[0]"
   ]
  },
  {
   "cell_type": "markdown",
   "metadata": {},
   "source": [
    "### Configuration"
   ]
  },
  {
   "cell_type": "code",
   "execution_count": 12,
   "metadata": {},
   "outputs": [],
   "source": [
    "pd.set_option('display.float_format', lambda x: '%.2f' % x)"
   ]
  },
  {
   "cell_type": "markdown",
   "metadata": {},
   "source": [
    "## Seeing"
   ]
  },
  {
   "cell_type": "markdown",
   "metadata": {},
   "source": [
    "The seeing model of RTN-022 provides a mean log r0 (Fried parameter), which provides an average seeing. Begin by transforming that to a von Karman seeing with an outer scale of 30m:"
   ]
  },
  {
   "cell_type": "code",
   "execution_count": 13,
   "metadata": {},
   "outputs": [
    {
     "data": {
      "text/plain": [
       "0.69"
      ]
     },
     "execution_count": 13,
     "metadata": {},
     "output_type": "execute_result"
    }
   ],
   "source": [
    "def vk_seeing(r0, outer_scale=30.0, wavelength=5.0e-7):\n",
    "    \"\"\"Calculate the seeing using a von Karman model.\n",
    "\n",
    "    See Tokovinin 2002PASP..114.1156T\n",
    "\n",
    "    Args:\n",
    "        r0: the Fried parameter, in meters\n",
    "        outer_scale: the von Karman outer scale, in meters\n",
    "        wavelength: the wavelength of light, in meters\n",
    "\n",
    "    Returns:\n",
    "        The PSF FWHM, in arcseconds\n",
    "    \"\"\"\n",
    "    # Calculate the DIMM estimate of the seeing using the Kolmogorov model,\n",
    "    # using eqn 5 from Tokovinin 2002PASP..114.1156T eqn 5\n",
    "    kol_seeing = 0.98*wavelength/r0\n",
    "\n",
    "    # Calculate the correction factor required to convert the Kolmogorov model\n",
    "    # seeing to the von Karman model seeing,\n",
    "    # using eqn 19 of Tokovinin 2002PASP..114.1156T\n",
    "    vk_correction2 = 1.0 - 2.183*np.power(r0/outer_scale, 0.356)\n",
    "\n",
    "    # Apply the correction factor\n",
    "    seeing_rad = kol_seeing * np.sqrt(vk_correction2)\n",
    "\n",
    "    # Convert to arcseconds\n",
    "    seeing = np.degrees(seeing_rad)*(60.0*60.0)\n",
    "\n",
    "    return seeing\n",
    "\n",
    "seeing500 = np.round(vk_seeing(10**mean_log_r0, outer_scale=30), 2)\n",
    "seeing500"
   ]
  },
  {
   "cell_type": "markdown",
   "metadata": {},
   "source": [
    "Now, apply the `opsim` seeing model:"
   ]
  },
  {
   "cell_type": "code",
   "execution_count": 14,
   "metadata": {},
   "outputs": [
    {
     "data": {
      "text/plain": [
       "band\n",
       "u   1.01\n",
       "g   0.95\n",
       "r   0.89\n",
       "i   0.86\n",
       "z   0.83\n",
       "y   0.81\n",
       "dtype: float64"
      ]
     },
     "execution_count": 14,
     "metadata": {},
     "output_type": "execute_result"
    }
   ],
   "source": [
    "seeing_model = SeeingModel()\n",
    "seeing = pd.Series(seeing_model(seeing500, 1.0)['fwhmEff'], index=bands.band)\n",
    "seeing"
   ]
  },
  {
   "cell_type": "markdown",
   "metadata": {},
   "source": [
    "## Sky"
   ]
  },
  {
   "cell_type": "markdown",
   "metadata": {},
   "source": [
    "Sample the sky at intervals for all dark time in the survey:"
   ]
  },
  {
   "cell_type": "code",
   "execution_count": 15,
   "metadata": {},
   "outputs": [
    {
     "name": "stderr",
     "output_type": "stream",
     "text": [
      "/data/des91.b/data/neilsen/anaconda/envs/rubin_sim/lib/python3.9/site-packages/erfa/core.py:154: ErfaWarning: ERFA function \"dtf2d\" yielded 1 of \"dubious year (Note 6)\"\n",
      "  warnings.warn('ERFA function \"{}\" yielded {}'.format(func_name, wmsg),\n"
     ]
    },
    {
     "name": "stdout",
     "output_type": "stream",
     "text": [
      "CPU times: user 39.9 ms, sys: 72.9 ms, total: 113 ms\n",
      "Wall time: 115 ms\n"
     ]
    }
   ],
   "source": [
    "%%time\n",
    "mjd_range = (astropy.time.Time('2022-10-01T16:00:00Z').mjd, astropy.time.Time('2032-10-01T16:00:00Z').mjd)\n",
    "all_mjds = np.arange(*mjd_range, mjd_sample_rate)\n",
    "all_times = astropy.time.Time(all_mjds, scale='utc', format='mjd', location=site)\n",
    "\n",
    "try:\n",
    "    with open(sun_cache_fname, 'rb') as sun_cache:\n",
    "        sun_coords = pickle.load(sun_cache)\n",
    "    with open(moon_cache_fname, 'rb') as moon_cache:\n",
    "        moon_coords = pickle.load(moon_cache)\n",
    "except FileNotFoundError:\n",
    "    sun_coords = astropy.coordinates.get_sun(all_times).transform_to(astropy.coordinates.AltAz(obstime=all_times, location=site))\n",
    "    with open(sun_cache_fname, 'wb') as fp:\n",
    "        pickle.dump(sun_coords, fp)\n",
    "\n",
    "    moon_coords = astropy.coordinates.get_moon(all_times).transform_to(astropy.coordinates.AltAz(obstime=all_times, location=site))\n",
    "    with open(moon_cache_fname, 'wb') as moon_cache:\n",
    "        pickle.dump(moon_coords, moon_cache)\n",
    "\n",
    "dark_idxs = np.logical_and(sun_coords.alt.deg < -18, moon_coords.alt.deg < -18)\n",
    "mjds = all_mjds[dark_idxs]\n",
    "times = all_times[dark_idxs]"
   ]
  },
  {
   "cell_type": "markdown",
   "metadata": {},
   "source": [
    "Find the healpixels for the standard pointing (zenith) for the sampled times:"
   ]
  },
  {
   "cell_type": "code",
   "execution_count": 16,
   "metadata": {},
   "outputs": [],
   "source": [
    "def find_zenith_hpixs(mjd, site, nside, north=True):\n",
    "    lst = Time(mjd, format='mjd', location=site).sidereal_time('apparent').to_value(u.degree)\n",
    "    ra = lst\n",
    "    decl = site.lat.deg\n",
    "    hpix = healpy.ang2pix(nside, ra, decl, lonlat=True)\n",
    "    return hpix"
   ]
  },
  {
   "cell_type": "markdown",
   "metadata": {},
   "source": [
    "Actually calculate the sky brightnesses:"
   ]
  },
  {
   "cell_type": "code",
   "execution_count": 17,
   "metadata": {},
   "outputs": [
    {
     "name": "stderr",
     "output_type": "stream",
     "text": [
      "/data/des91.b/data/neilsen/LSST/devel/rubin_sim/rubin_sim/skybrightness_pre/SkyModelPre.py:359: UserWarning: Requested MJD between sunrise and sunset, returning closest maps\n",
      "  warnings.warn('Requested MJD between sunrise and sunset, returning closest maps')\n"
     ]
    },
    {
     "data": {
      "image/png": "[encoded data removed]",
      "text/plain": [
       "<Figure size 576x360 with 1 Axes>"
      ]
     },
     "metadata": {},
     "output_type": "display_data"
    }
   ],
   "source": [
    "def compute_zenith_mags(mjds, sky_model, **kwargs):\n",
    "    zenith_hpixs = pd.DataFrame({'mjd': mjds,\n",
    "                                 'hpix': find_zenith_hpixs(mjds, **kwargs)})\n",
    "    mags = zenith_hpixs.apply(\n",
    "        lambda x: pd.Series({k: m[0] for k, m in sky_model.returnMags(x.mjd, indx=np.array([x.hpix], dtype=int), badval=np.nan, zenith_mask=False).items()}),\n",
    "        axis=1)\n",
    "    mags['mjd'] = mjds\n",
    "    return mags\n",
    "    \n",
    "if __debug__:\n",
    "    df = compute_zenith_mags(np.arange(60000.7, 60001.7, 0.01), sky_model, site=site, nside=sky_model.nside)\n",
    "    ax = None\n",
    "    for band in bands.band:\n",
    "        ax = df.plot('mjd', band, ax=ax)"
   ]
  },
  {
   "cell_type": "code",
   "execution_count": 18,
   "metadata": {},
   "outputs": [
    {
     "name": "stdout",
     "output_type": "stream",
     "text": [
      "CPU times: user 2.16 ms, sys: 5.29 ms, total: 7.45 ms\n",
      "Wall time: 7.23 ms\n"
     ]
    }
   ],
   "source": [
    "%%time\n",
    "try:\n",
    "    with open(sky_cache_fname, 'rb') as sky_cache:\n",
    "        dark_sky_mags = pickle.load(sky_cache)\n",
    "except FileNotFoundError:\n",
    "    dark_sky_mags = compute_zenith_mags(mjds, sky_model=sky_model, site=site, nside=sky_model.nside)\n",
    "    with open(sky_cache_fname, 'wb') as sky_cache:\n",
    "        pickle.dump(dark_sky_mags, sky_cache)"
   ]
  },
  {
   "cell_type": "markdown",
   "metadata": {},
   "source": [
    "Get the median dark sky in each band:"
   ]
  },
  {
   "cell_type": "code",
   "execution_count": 19,
   "metadata": {},
   "outputs": [
    {
     "data": {
      "text/plain": [
       "u        22.68\n",
       "g        22.11\n",
       "r        21.11\n",
       "i        20.39\n",
       "z        19.43\n",
       "y        18.63\n",
       "mjd   61710.15\n",
       "dtype: float64"
      ]
     },
     "execution_count": 19,
     "metadata": {},
     "output_type": "execute_result"
    }
   ],
   "source": [
    "median_dark_sky = dark_sky_mags.median()\n",
    "median_dark_sky"
   ]
  },
  {
   "cell_type": "markdown",
   "metadata": {},
   "source": [
    "## Calculate the fiducial magnitudes"
   ]
  },
  {
   "cell_type": "code",
   "execution_count": 20,
   "metadata": {},
   "outputs": [
    {
     "data": {
      "text/plain": [
       "band\n",
       "u   23.71\n",
       "g   24.67\n",
       "r   24.24\n",
       "i   23.82\n",
       "z   23.21\n",
       "y   22.40\n",
       "dtype: float64"
      ]
     },
     "execution_count": 20,
     "metadata": {},
     "output_type": "execute_result"
    }
   ],
   "source": [
    "try:\n",
    "    # Make sure we are using parameters as defined in the code. \n",
    "    delattr(m5_flat_sed, 'Cm')\n",
    "except AttributeError:\n",
    "    pass\n",
    "\n",
    "m0 = bands.copy()\n",
    "m0.apply(\n",
    "        lambda r: m5_flat_sed(r['band'], median_dark_sky[r['band']], seeing[r['band']], expTime=15, airmass=1, nexp=2), axis=1).round(2)"
   ]
  },
  {
   "cell_type": "markdown",
   "metadata": {},
   "source": [
    "# Tracing the origin of differences with the SRD"
   ]
  },
  {
   "cell_type": "markdown",
   "metadata": {},
   "source": [
    "## SRD m5"
   ]
  },
  {
   "cell_type": "markdown",
   "metadata": {},
   "source": [
    "Copy values from the SRD:"
   ]
  },
  {
   "cell_type": "code",
   "execution_count": 21,
   "metadata": {},
   "outputs": [],
   "source": [
    "m5 = pd.DataFrame(\n",
    "    {'SRD spec': [23.9, 25.0, 24.7, 24.0, 23.3, 22.1],\n",
    "     'SRD min': [23.4 ,24.6, 24.3, 23.6, 22.9, 21.7],\n",
    "     'SRD stretch': [24.0, 25.1, 24.8, 24.1, 23.4, 22.2]},\n",
    "    index=bands.band)"
   ]
  },
  {
   "cell_type": "markdown",
   "metadata": {},
   "source": [
    "## Reproduce m5 from the overview paper"
   ]
  },
  {
   "cell_type": "markdown",
   "metadata": {},
   "source": [
    "Table 2 from p. 26 of the [overview paper](https://arxiv.org/abs/0805.2366)."
   ]
  },
  {
   "cell_type": "code",
   "execution_count": 22,
   "metadata": {},
   "outputs": [
    {
     "data": {
      "text/html": [
       "<div>\n",
       "<style scoped>\n",
       "    .dataframe tbody tr th:only-of-type {\n",
       "        vertical-align: middle;\n",
       "    }\n",
       "\n",
       "    .dataframe tbody tr th {\n",
       "        vertical-align: top;\n",
       "    }\n",
       "\n",
       "    .dataframe thead th {\n",
       "        text-align: right;\n",
       "    }\n",
       "</style>\n",
       "<table border=\"1\" class=\"dataframe\">\n",
       "  <thead>\n",
       "    <tr style=\"text-align: right;\">\n",
       "      <th>band</th>\n",
       "      <th>u</th>\n",
       "      <th>g</th>\n",
       "      <th>r</th>\n",
       "      <th>i</th>\n",
       "      <th>z</th>\n",
       "      <th>y</th>\n",
       "    </tr>\n",
       "  </thead>\n",
       "  <tbody>\n",
       "    <tr>\n",
       "      <th>m_sky</th>\n",
       "      <td>22.99</td>\n",
       "      <td>22.26</td>\n",
       "      <td>21.20</td>\n",
       "      <td>20.48</td>\n",
       "      <td>19.60</td>\n",
       "      <td>18.61</td>\n",
       "    </tr>\n",
       "    <tr>\n",
       "      <th>theta</th>\n",
       "      <td>0.81</td>\n",
       "      <td>0.77</td>\n",
       "      <td>0.73</td>\n",
       "      <td>0.71</td>\n",
       "      <td>0.69</td>\n",
       "      <td>0.68</td>\n",
       "    </tr>\n",
       "    <tr>\n",
       "      <th>theta_eff</th>\n",
       "      <td>0.92</td>\n",
       "      <td>0.87</td>\n",
       "      <td>0.83</td>\n",
       "      <td>0.80</td>\n",
       "      <td>0.79</td>\n",
       "      <td>0.76</td>\n",
       "    </tr>\n",
       "    <tr>\n",
       "      <th>gamma</th>\n",
       "      <td>0.04</td>\n",
       "      <td>0.04</td>\n",
       "      <td>0.04</td>\n",
       "      <td>0.04</td>\n",
       "      <td>0.04</td>\n",
       "      <td>0.04</td>\n",
       "    </tr>\n",
       "    <tr>\n",
       "      <th>k_m</th>\n",
       "      <td>0.49</td>\n",
       "      <td>0.21</td>\n",
       "      <td>0.13</td>\n",
       "      <td>0.10</td>\n",
       "      <td>0.07</td>\n",
       "      <td>0.17</td>\n",
       "    </tr>\n",
       "    <tr>\n",
       "      <th>C_m</th>\n",
       "      <td>23.09</td>\n",
       "      <td>24.42</td>\n",
       "      <td>24.44</td>\n",
       "      <td>24.32</td>\n",
       "      <td>24.16</td>\n",
       "      <td>23.73</td>\n",
       "    </tr>\n",
       "    <tr>\n",
       "      <th>m5</th>\n",
       "      <td>23.78</td>\n",
       "      <td>24.81</td>\n",
       "      <td>24.35</td>\n",
       "      <td>23.92</td>\n",
       "      <td>23.34</td>\n",
       "      <td>22.45</td>\n",
       "    </tr>\n",
       "    <tr>\n",
       "      <th>Delta_C_m_infinity</th>\n",
       "      <td>0.62</td>\n",
       "      <td>0.18</td>\n",
       "      <td>0.10</td>\n",
       "      <td>0.07</td>\n",
       "      <td>0.05</td>\n",
       "      <td>0.04</td>\n",
       "    </tr>\n",
       "    <tr>\n",
       "      <th>Delta_C_m_2</th>\n",
       "      <td>0.23</td>\n",
       "      <td>0.08</td>\n",
       "      <td>0.05</td>\n",
       "      <td>0.03</td>\n",
       "      <td>0.02</td>\n",
       "      <td>0.02</td>\n",
       "    </tr>\n",
       "    <tr>\n",
       "      <th>Delta_m5</th>\n",
       "      <td>0.21</td>\n",
       "      <td>0.16</td>\n",
       "      <td>0.14</td>\n",
       "      <td>0.13</td>\n",
       "      <td>0.13</td>\n",
       "      <td>0.14</td>\n",
       "    </tr>\n",
       "  </tbody>\n",
       "</table>\n",
       "</div>"
      ],
      "text/plain": [
       "band                   u     g     r     i     z     y\n",
       "m_sky              22.99 22.26 21.20 20.48 19.60 18.61\n",
       "theta               0.81  0.77  0.73  0.71  0.69  0.68\n",
       "theta_eff           0.92  0.87  0.83  0.80  0.79  0.76\n",
       "gamma               0.04  0.04  0.04  0.04  0.04  0.04\n",
       "k_m                 0.49  0.21  0.13  0.10  0.07  0.17\n",
       "C_m                23.09 24.42 24.44 24.32 24.16 23.73\n",
       "m5                 23.78 24.81 24.35 23.92 23.34 22.45\n",
       "Delta_C_m_infinity  0.62  0.18  0.10  0.07  0.05  0.04\n",
       "Delta_C_m_2         0.23  0.08  0.05  0.03  0.02  0.02\n",
       "Delta_m5            0.21  0.16  0.14  0.13  0.13  0.14"
      ]
     },
     "execution_count": 22,
     "metadata": {},
     "output_type": "execute_result"
    }
   ],
   "source": [
    "overview_table2 = pd.DataFrame({'m_sky': [22.99, 22.26, 21.20, 20.48, 19.60, 18.61],\n",
    "                                'theta': [0.81, 0.77, 0.73, 0.71, 0.69, 0.68],\n",
    "                                'theta_eff': [0.92, 0.87, 0.83, 0.80, 0.79, 0.76],\n",
    "                                'gamma': [0.038, 0.039, 0.039, 0.039, 0.039, 0.039],\n",
    "                                'k_m': [0.491, 0.213, 0.126, 0.096, 0.069, 0.170],\n",
    "                                'C_m': [23.09, 24.42, 24.44, 24.32, 24.16, 23.73],\n",
    "                                'm5': [23.78, 24.81, 24.35, 23.92, 23.34, 22.45],\n",
    "                                'Delta_C_m_infinity': [0.62, 0.18, 0.10, 0.07, 0.05, 0.04],\n",
    "                                'Delta_C_m_2': [0.23, 0.08, 0.05, 0.03, 0.02, 0.02],\n",
    "                                'Delta_m5': [0.21, 0.16, 0.14, 0.13, 0.13, 0.14],\n",
    "                               }, index=bands.index)\n",
    "\n",
    "overview_table2.T"
   ]
  },
  {
   "cell_type": "markdown",
   "metadata": {},
   "source": [
    "Call `m5_flat_sed` once to instantiate default parameters."
   ]
  },
  {
   "cell_type": "code",
   "execution_count": 23,
   "metadata": {},
   "outputs": [],
   "source": [
    "try:\n",
    "    # Make sure we are using parameters as defined in the code. \n",
    "    delattr(m5_flat_sed, 'Cm')\n",
    "except AttributeError:\n",
    "    pass\n",
    "\n",
    "_ = m5_flat_sed('u', 23, 1.0, 30.0, 1.0)"
   ]
  },
  {
   "cell_type": "code",
   "execution_count": 24,
   "metadata": {},
   "outputs": [],
   "source": [
    "m5_flat_sed.Cm = overview_table2.C_m.to_dict()\n",
    "m5_flat_sed.dCm_infinity = overview_table2.Delta_C_m_infinity.to_dict()\n",
    "m5_flat_sed.kAtm = overview_table2.k_m\n",
    "m5_flat_sed.msky = overview_table2.m_sky"
   ]
  },
  {
   "cell_type": "code",
   "execution_count": 25,
   "metadata": {},
   "outputs": [
    {
     "data": {
      "text/html": [
       "<div>\n",
       "<style scoped>\n",
       "    .dataframe tbody tr th:only-of-type {\n",
       "        vertical-align: middle;\n",
       "    }\n",
       "\n",
       "    .dataframe tbody tr th {\n",
       "        vertical-align: top;\n",
       "    }\n",
       "\n",
       "    .dataframe thead th {\n",
       "        text-align: right;\n",
       "    }\n",
       "</style>\n",
       "<table border=\"1\" class=\"dataframe\">\n",
       "  <thead>\n",
       "    <tr style=\"text-align: right;\">\n",
       "      <th></th>\n",
       "      <th>SRD spec</th>\n",
       "      <th>SRD min</th>\n",
       "      <th>SRD stretch</th>\n",
       "      <th>overview</th>\n",
       "    </tr>\n",
       "    <tr>\n",
       "      <th>band</th>\n",
       "      <th></th>\n",
       "      <th></th>\n",
       "      <th></th>\n",
       "      <th></th>\n",
       "    </tr>\n",
       "  </thead>\n",
       "  <tbody>\n",
       "    <tr>\n",
       "      <th>u</th>\n",
       "      <td>23.90</td>\n",
       "      <td>23.40</td>\n",
       "      <td>24.00</td>\n",
       "      <td>23.79</td>\n",
       "    </tr>\n",
       "    <tr>\n",
       "      <th>g</th>\n",
       "      <td>25.00</td>\n",
       "      <td>24.60</td>\n",
       "      <td>25.10</td>\n",
       "      <td>24.81</td>\n",
       "    </tr>\n",
       "    <tr>\n",
       "      <th>r</th>\n",
       "      <td>24.70</td>\n",
       "      <td>24.30</td>\n",
       "      <td>24.80</td>\n",
       "      <td>24.36</td>\n",
       "    </tr>\n",
       "    <tr>\n",
       "      <th>i</th>\n",
       "      <td>24.00</td>\n",
       "      <td>23.60</td>\n",
       "      <td>24.10</td>\n",
       "      <td>23.92</td>\n",
       "    </tr>\n",
       "    <tr>\n",
       "      <th>z</th>\n",
       "      <td>23.30</td>\n",
       "      <td>22.90</td>\n",
       "      <td>23.40</td>\n",
       "      <td>23.33</td>\n",
       "    </tr>\n",
       "    <tr>\n",
       "      <th>y</th>\n",
       "      <td>22.10</td>\n",
       "      <td>21.70</td>\n",
       "      <td>22.20</td>\n",
       "      <td>22.45</td>\n",
       "    </tr>\n",
       "  </tbody>\n",
       "</table>\n",
       "</div>"
      ],
      "text/plain": [
       "      SRD spec  SRD min  SRD stretch  overview\n",
       "band                                          \n",
       "u        23.90    23.40        24.00     23.79\n",
       "g        25.00    24.60        25.10     24.81\n",
       "r        24.70    24.30        24.80     24.36\n",
       "i        24.00    23.60        24.10     23.92\n",
       "z        23.30    22.90        23.40     23.33\n",
       "y        22.10    21.70        22.20     22.45"
      ]
     },
     "execution_count": 25,
     "metadata": {},
     "output_type": "execute_result"
    }
   ],
   "source": [
    "m5['overview'] = overview_table2.reset_index().apply(\n",
    "        lambda r: m5_flat_sed(r['band'], r['m_sky'], r['theta_eff'], expTime=30, airmass=1.0, nexp=1), axis=1).values\n",
    "m5"
   ]
  },
  {
   "cell_type": "markdown",
   "metadata": {},
   "source": [
    "Compare m5 as re-derived from the table using `m5_flat_sed` with the actual values from the table:"
   ]
  },
  {
   "cell_type": "code",
   "execution_count": 26,
   "metadata": {},
   "outputs": [
    {
     "data": {
      "text/plain": [
       "band\n",
       "u    0.01\n",
       "g    0.00\n",
       "r    0.01\n",
       "i   -0.00\n",
       "z   -0.01\n",
       "y   -0.00\n",
       "dtype: float64"
      ]
     },
     "execution_count": 26,
     "metadata": {},
     "output_type": "execute_result"
    }
   ],
   "source": [
    "m5['overview'] - overview_table2['m5']"
   ]
  },
  {
   "cell_type": "markdown",
   "metadata": {},
   "source": [
    "Okay, so close, but maybe some rounding difference."
   ]
  },
  {
   "cell_type": "markdown",
   "metadata": {},
   "source": [
    "## Move to airmass of 1.2"
   ]
  },
  {
   "cell_type": "markdown",
   "metadata": {},
   "source": [
    "See if we can reproduce the `theta_eff` from overview table 2 using `SeeingModel`, so we can use it to calculate the effective seeing at other airmasses."
   ]
  },
  {
   "cell_type": "code",
   "execution_count": 27,
   "metadata": {},
   "outputs": [],
   "source": [
    "seeing_model = SeeingModel()"
   ]
  },
  {
   "cell_type": "code",
   "execution_count": 28,
   "metadata": {},
   "outputs": [
    {
     "data": {
      "text/html": [
       "<div>\n",
       "<style scoped>\n",
       "    .dataframe tbody tr th:only-of-type {\n",
       "        vertical-align: middle;\n",
       "    }\n",
       "\n",
       "    .dataframe tbody tr th {\n",
       "        vertical-align: top;\n",
       "    }\n",
       "\n",
       "    .dataframe thead th {\n",
       "        text-align: right;\n",
       "    }\n",
       "</style>\n",
       "<table border=\"1\" class=\"dataframe\">\n",
       "  <thead>\n",
       "    <tr style=\"text-align: right;\">\n",
       "      <th></th>\n",
       "      <th>table 2</th>\n",
       "      <th>SeeingModel</th>\n",
       "      <th>difference</th>\n",
       "    </tr>\n",
       "    <tr>\n",
       "      <th>band</th>\n",
       "      <th></th>\n",
       "      <th></th>\n",
       "      <th></th>\n",
       "    </tr>\n",
       "  </thead>\n",
       "  <tbody>\n",
       "    <tr>\n",
       "      <th>u</th>\n",
       "      <td>0.92</td>\n",
       "      <td>0.93</td>\n",
       "      <td>0.01</td>\n",
       "    </tr>\n",
       "    <tr>\n",
       "      <th>g</th>\n",
       "      <td>0.87</td>\n",
       "      <td>0.87</td>\n",
       "      <td>0.00</td>\n",
       "    </tr>\n",
       "    <tr>\n",
       "      <th>r</th>\n",
       "      <td>0.83</td>\n",
       "      <td>0.83</td>\n",
       "      <td>-0.00</td>\n",
       "    </tr>\n",
       "    <tr>\n",
       "      <th>i</th>\n",
       "      <td>0.80</td>\n",
       "      <td>0.80</td>\n",
       "      <td>-0.00</td>\n",
       "    </tr>\n",
       "    <tr>\n",
       "      <th>z</th>\n",
       "      <td>0.79</td>\n",
       "      <td>0.77</td>\n",
       "      <td>-0.02</td>\n",
       "    </tr>\n",
       "    <tr>\n",
       "      <th>y</th>\n",
       "      <td>0.76</td>\n",
       "      <td>0.76</td>\n",
       "      <td>-0.00</td>\n",
       "    </tr>\n",
       "  </tbody>\n",
       "</table>\n",
       "</div>"
      ],
      "text/plain": [
       "      table 2  SeeingModel  difference\n",
       "band                                  \n",
       "u        0.92         0.93        0.01\n",
       "g        0.87         0.87        0.00\n",
       "r        0.83         0.83       -0.00\n",
       "i        0.80         0.80       -0.00\n",
       "z        0.79         0.77       -0.02\n",
       "y        0.76         0.76       -0.00"
      ]
     },
     "execution_count": 28,
     "metadata": {},
     "output_type": "execute_result"
    }
   ],
   "source": [
    "test_eff_seeing = pd.DataFrame(\n",
    "    {'table 2': overview_table2.theta_eff.values,\n",
    "     'SeeingModel': seeing_model(original_median_seeing500, 1.0)['fwhmEff']},\n",
    "index=bands.index)\n",
    "test_eff_seeing['difference'] = test_eff_seeing['SeeingModel'] - test_eff_seeing['table 2']\n",
    "test_eff_seeing"
   ]
  },
  {
   "cell_type": "markdown",
   "metadata": {},
   "source": [
    "Pre-compute the effective seeing at airmass"
   ]
  },
  {
   "cell_type": "code",
   "execution_count": 29,
   "metadata": {},
   "outputs": [
    {
     "data": {
      "text/plain": [
       "band\n",
       "u   1.03\n",
       "g   0.98\n",
       "r   0.92\n",
       "i   0.89\n",
       "z   0.86\n",
       "y   0.85\n",
       "dtype: float64"
      ]
     },
     "execution_count": 29,
     "metadata": {},
     "output_type": "execute_result"
    }
   ],
   "source": [
    "original_seeing_12 = pd.Series(seeing_model(original_median_seeing500, 1.2)['fwhmEff'], index=bands.index)\n",
    "original_seeing_12"
   ]
  },
  {
   "cell_type": "code",
   "execution_count": 30,
   "metadata": {},
   "outputs": [
    {
     "data": {
      "text/html": [
       "<div>\n",
       "<style scoped>\n",
       "    .dataframe tbody tr th:only-of-type {\n",
       "        vertical-align: middle;\n",
       "    }\n",
       "\n",
       "    .dataframe tbody tr th {\n",
       "        vertical-align: top;\n",
       "    }\n",
       "\n",
       "    .dataframe thead th {\n",
       "        text-align: right;\n",
       "    }\n",
       "</style>\n",
       "<table border=\"1\" class=\"dataframe\">\n",
       "  <thead>\n",
       "    <tr style=\"text-align: right;\">\n",
       "      <th></th>\n",
       "      <th>SRD spec</th>\n",
       "      <th>SRD min</th>\n",
       "      <th>SRD stretch</th>\n",
       "      <th>overview</th>\n",
       "      <th>airmass</th>\n",
       "    </tr>\n",
       "    <tr>\n",
       "      <th>band</th>\n",
       "      <th></th>\n",
       "      <th></th>\n",
       "      <th></th>\n",
       "      <th></th>\n",
       "      <th></th>\n",
       "    </tr>\n",
       "  </thead>\n",
       "  <tbody>\n",
       "    <tr>\n",
       "      <th>u</th>\n",
       "      <td>23.90</td>\n",
       "      <td>23.40</td>\n",
       "      <td>24.00</td>\n",
       "      <td>23.79</td>\n",
       "      <td>23.56</td>\n",
       "    </tr>\n",
       "    <tr>\n",
       "      <th>g</th>\n",
       "      <td>25.00</td>\n",
       "      <td>24.60</td>\n",
       "      <td>25.10</td>\n",
       "      <td>24.81</td>\n",
       "      <td>24.65</td>\n",
       "    </tr>\n",
       "    <tr>\n",
       "      <th>r</th>\n",
       "      <td>24.70</td>\n",
       "      <td>24.30</td>\n",
       "      <td>24.80</td>\n",
       "      <td>24.36</td>\n",
       "      <td>24.21</td>\n",
       "    </tr>\n",
       "    <tr>\n",
       "      <th>i</th>\n",
       "      <td>24.00</td>\n",
       "      <td>23.60</td>\n",
       "      <td>24.10</td>\n",
       "      <td>23.92</td>\n",
       "      <td>23.78</td>\n",
       "    </tr>\n",
       "    <tr>\n",
       "      <th>z</th>\n",
       "      <td>23.30</td>\n",
       "      <td>22.90</td>\n",
       "      <td>23.40</td>\n",
       "      <td>23.33</td>\n",
       "      <td>23.22</td>\n",
       "    </tr>\n",
       "    <tr>\n",
       "      <th>y</th>\n",
       "      <td>22.10</td>\n",
       "      <td>21.70</td>\n",
       "      <td>22.20</td>\n",
       "      <td>22.45</td>\n",
       "      <td>22.30</td>\n",
       "    </tr>\n",
       "  </tbody>\n",
       "</table>\n",
       "</div>"
      ],
      "text/plain": [
       "      SRD spec  SRD min  SRD stretch  overview  airmass\n",
       "band                                                   \n",
       "u        23.90    23.40        24.00     23.79    23.56\n",
       "g        25.00    24.60        25.10     24.81    24.65\n",
       "r        24.70    24.30        24.80     24.36    24.21\n",
       "i        24.00    23.60        24.10     23.92    23.78\n",
       "z        23.30    22.90        23.40     23.33    23.22\n",
       "y        22.10    21.70        22.20     22.45    22.30"
      ]
     },
     "execution_count": 30,
     "metadata": {},
     "output_type": "execute_result"
    }
   ],
   "source": [
    "m5['airmass'] = overview_table2.reset_index().apply(\n",
    "        lambda r: m5_flat_sed(r['band'], r['m_sky'], original_seeing_12[r['band']], expTime=30, airmass=1.2, nexp=1), axis=1).values\n",
    "m5"
   ]
  },
  {
   "cell_type": "markdown",
   "metadata": {},
   "source": [
    "Compare change to airmass 1.2 to that reported in table 2:"
   ]
  },
  {
   "cell_type": "code",
   "execution_count": 31,
   "metadata": {},
   "outputs": [
    {
     "data": {
      "text/html": [
       "<div>\n",
       "<style scoped>\n",
       "    .dataframe tbody tr th:only-of-type {\n",
       "        vertical-align: middle;\n",
       "    }\n",
       "\n",
       "    .dataframe tbody tr th {\n",
       "        vertical-align: top;\n",
       "    }\n",
       "\n",
       "    .dataframe thead th {\n",
       "        text-align: right;\n",
       "    }\n",
       "</style>\n",
       "<table border=\"1\" class=\"dataframe\">\n",
       "  <thead>\n",
       "    <tr style=\"text-align: right;\">\n",
       "      <th></th>\n",
       "      <th>table 2 Delta_m5</th>\n",
       "      <th>Delta_m5</th>\n",
       "      <th>diff</th>\n",
       "    </tr>\n",
       "    <tr>\n",
       "      <th>band</th>\n",
       "      <th></th>\n",
       "      <th></th>\n",
       "      <th></th>\n",
       "    </tr>\n",
       "  </thead>\n",
       "  <tbody>\n",
       "    <tr>\n",
       "      <th>u</th>\n",
       "      <td>0.21</td>\n",
       "      <td>0.23</td>\n",
       "      <td>0.02</td>\n",
       "    </tr>\n",
       "    <tr>\n",
       "      <th>g</th>\n",
       "      <td>0.16</td>\n",
       "      <td>0.17</td>\n",
       "      <td>0.01</td>\n",
       "    </tr>\n",
       "    <tr>\n",
       "      <th>r</th>\n",
       "      <td>0.14</td>\n",
       "      <td>0.14</td>\n",
       "      <td>0.00</td>\n",
       "    </tr>\n",
       "    <tr>\n",
       "      <th>i</th>\n",
       "      <td>0.13</td>\n",
       "      <td>0.13</td>\n",
       "      <td>0.00</td>\n",
       "    </tr>\n",
       "    <tr>\n",
       "      <th>z</th>\n",
       "      <td>0.13</td>\n",
       "      <td>0.11</td>\n",
       "      <td>-0.02</td>\n",
       "    </tr>\n",
       "    <tr>\n",
       "      <th>y</th>\n",
       "      <td>0.14</td>\n",
       "      <td>0.15</td>\n",
       "      <td>0.01</td>\n",
       "    </tr>\n",
       "  </tbody>\n",
       "</table>\n",
       "</div>"
      ],
      "text/plain": [
       "      table 2 Delta_m5  Delta_m5  diff\n",
       "band                                  \n",
       "u                 0.21      0.23  0.02\n",
       "g                 0.16      0.17  0.01\n",
       "r                 0.14      0.14  0.00\n",
       "i                 0.13      0.13  0.00\n",
       "z                 0.13      0.11 -0.02\n",
       "y                 0.14      0.15  0.01"
      ]
     },
     "execution_count": 31,
     "metadata": {},
     "output_type": "execute_result"
    }
   ],
   "source": [
    "test_airmass12 = pd.DataFrame({'table 2 Delta_m5': overview_table2.Delta_m5,\n",
    "                               'Delta_m5': m5['overview'] - m5['airmass']})\n",
    "test_airmass12['diff'] = test_airmass12['Delta_m5'] - test_airmass12['table 2 Delta_m5']\n",
    "test_airmass12"
   ]
  },
  {
   "cell_type": "markdown",
   "metadata": {},
   "source": [
    "## Update to use throughput in `sims_utils`"
   ]
  },
  {
   "cell_type": "markdown",
   "metadata": {},
   "source": [
    "Trigger reinitialzation of the parameters in `m5_flat_sed` to be defaults when called:"
   ]
  },
  {
   "cell_type": "code",
   "execution_count": 32,
   "metadata": {},
   "outputs": [],
   "source": [
    "del m5_flat_sed.Cm"
   ]
  },
  {
   "cell_type": "code",
   "execution_count": 33,
   "metadata": {},
   "outputs": [
    {
     "data": {
      "text/html": [
       "<div>\n",
       "<style scoped>\n",
       "    .dataframe tbody tr th:only-of-type {\n",
       "        vertical-align: middle;\n",
       "    }\n",
       "\n",
       "    .dataframe tbody tr th {\n",
       "        vertical-align: top;\n",
       "    }\n",
       "\n",
       "    .dataframe thead th {\n",
       "        text-align: right;\n",
       "    }\n",
       "</style>\n",
       "<table border=\"1\" class=\"dataframe\">\n",
       "  <thead>\n",
       "    <tr style=\"text-align: right;\">\n",
       "      <th></th>\n",
       "      <th>SRD spec</th>\n",
       "      <th>SRD min</th>\n",
       "      <th>SRD stretch</th>\n",
       "      <th>overview</th>\n",
       "      <th>airmass</th>\n",
       "      <th>throughput</th>\n",
       "    </tr>\n",
       "    <tr>\n",
       "      <th>band</th>\n",
       "      <th></th>\n",
       "      <th></th>\n",
       "      <th></th>\n",
       "      <th></th>\n",
       "      <th></th>\n",
       "      <th></th>\n",
       "    </tr>\n",
       "  </thead>\n",
       "  <tbody>\n",
       "    <tr>\n",
       "      <th>u</th>\n",
       "      <td>23.90</td>\n",
       "      <td>23.40</td>\n",
       "      <td>24.00</td>\n",
       "      <td>23.79</td>\n",
       "      <td>23.56</td>\n",
       "      <td>23.85</td>\n",
       "    </tr>\n",
       "    <tr>\n",
       "      <th>g</th>\n",
       "      <td>25.00</td>\n",
       "      <td>24.60</td>\n",
       "      <td>25.10</td>\n",
       "      <td>24.81</td>\n",
       "      <td>24.65</td>\n",
       "      <td>24.73</td>\n",
       "    </tr>\n",
       "    <tr>\n",
       "      <th>r</th>\n",
       "      <td>24.70</td>\n",
       "      <td>24.30</td>\n",
       "      <td>24.80</td>\n",
       "      <td>24.36</td>\n",
       "      <td>24.21</td>\n",
       "      <td>24.26</td>\n",
       "    </tr>\n",
       "    <tr>\n",
       "      <th>i</th>\n",
       "      <td>24.00</td>\n",
       "      <td>23.60</td>\n",
       "      <td>24.10</td>\n",
       "      <td>23.92</td>\n",
       "      <td>23.78</td>\n",
       "      <td>23.83</td>\n",
       "    </tr>\n",
       "    <tr>\n",
       "      <th>z</th>\n",
       "      <td>23.30</td>\n",
       "      <td>22.90</td>\n",
       "      <td>23.40</td>\n",
       "      <td>23.33</td>\n",
       "      <td>23.22</td>\n",
       "      <td>23.26</td>\n",
       "    </tr>\n",
       "    <tr>\n",
       "      <th>y</th>\n",
       "      <td>22.10</td>\n",
       "      <td>21.70</td>\n",
       "      <td>22.20</td>\n",
       "      <td>22.45</td>\n",
       "      <td>22.30</td>\n",
       "      <td>22.34</td>\n",
       "    </tr>\n",
       "  </tbody>\n",
       "</table>\n",
       "</div>"
      ],
      "text/plain": [
       "      SRD spec  SRD min  SRD stretch  overview  airmass  throughput\n",
       "band                                                               \n",
       "u        23.90    23.40        24.00     23.79    23.56       23.85\n",
       "g        25.00    24.60        25.10     24.81    24.65       24.73\n",
       "r        24.70    24.30        24.80     24.36    24.21       24.26\n",
       "i        24.00    23.60        24.10     23.92    23.78       23.83\n",
       "z        23.30    22.90        23.40     23.33    23.22       23.26\n",
       "y        22.10    21.70        22.20     22.45    22.30       22.34"
      ]
     },
     "execution_count": 33,
     "metadata": {},
     "output_type": "execute_result"
    }
   ],
   "source": [
    "m5['throughput'] = overview_table2.reset_index().apply(\n",
    "        lambda r: m5_flat_sed(r['band'], r['m_sky'], original_seeing_12[r['band']], expTime=30, airmass=1.2, nexp=1), axis=1).values\n",
    "m5"
   ]
  },
  {
   "cell_type": "markdown",
   "metadata": {},
   "source": [
    "## Switch to two exposures per visit"
   ]
  },
  {
   "cell_type": "code",
   "execution_count": 34,
   "metadata": {},
   "outputs": [
    {
     "data": {
      "text/html": [
       "<div>\n",
       "<style scoped>\n",
       "    .dataframe tbody tr th:only-of-type {\n",
       "        vertical-align: middle;\n",
       "    }\n",
       "\n",
       "    .dataframe tbody tr th {\n",
       "        vertical-align: top;\n",
       "    }\n",
       "\n",
       "    .dataframe thead th {\n",
       "        text-align: right;\n",
       "    }\n",
       "</style>\n",
       "<table border=\"1\" class=\"dataframe\">\n",
       "  <thead>\n",
       "    <tr style=\"text-align: right;\">\n",
       "      <th></th>\n",
       "      <th>SRD spec</th>\n",
       "      <th>SRD min</th>\n",
       "      <th>SRD stretch</th>\n",
       "      <th>overview</th>\n",
       "      <th>airmass</th>\n",
       "      <th>throughput</th>\n",
       "      <th>2exp</th>\n",
       "    </tr>\n",
       "    <tr>\n",
       "      <th>band</th>\n",
       "      <th></th>\n",
       "      <th></th>\n",
       "      <th></th>\n",
       "      <th></th>\n",
       "      <th></th>\n",
       "      <th></th>\n",
       "      <th></th>\n",
       "    </tr>\n",
       "  </thead>\n",
       "  <tbody>\n",
       "    <tr>\n",
       "      <th>u</th>\n",
       "      <td>23.90</td>\n",
       "      <td>23.40</td>\n",
       "      <td>24.00</td>\n",
       "      <td>23.79</td>\n",
       "      <td>23.56</td>\n",
       "      <td>23.85</td>\n",
       "      <td>23.63</td>\n",
       "    </tr>\n",
       "    <tr>\n",
       "      <th>g</th>\n",
       "      <td>25.00</td>\n",
       "      <td>24.60</td>\n",
       "      <td>25.10</td>\n",
       "      <td>24.81</td>\n",
       "      <td>24.65</td>\n",
       "      <td>24.73</td>\n",
       "      <td>24.65</td>\n",
       "    </tr>\n",
       "    <tr>\n",
       "      <th>r</th>\n",
       "      <td>24.70</td>\n",
       "      <td>24.30</td>\n",
       "      <td>24.80</td>\n",
       "      <td>24.36</td>\n",
       "      <td>24.21</td>\n",
       "      <td>24.26</td>\n",
       "      <td>24.22</td>\n",
       "    </tr>\n",
       "    <tr>\n",
       "      <th>i</th>\n",
       "      <td>24.00</td>\n",
       "      <td>23.60</td>\n",
       "      <td>24.10</td>\n",
       "      <td>23.92</td>\n",
       "      <td>23.78</td>\n",
       "      <td>23.83</td>\n",
       "      <td>23.80</td>\n",
       "    </tr>\n",
       "    <tr>\n",
       "      <th>z</th>\n",
       "      <td>23.30</td>\n",
       "      <td>22.90</td>\n",
       "      <td>23.40</td>\n",
       "      <td>23.33</td>\n",
       "      <td>23.22</td>\n",
       "      <td>23.26</td>\n",
       "      <td>23.24</td>\n",
       "    </tr>\n",
       "    <tr>\n",
       "      <th>y</th>\n",
       "      <td>22.10</td>\n",
       "      <td>21.70</td>\n",
       "      <td>22.20</td>\n",
       "      <td>22.45</td>\n",
       "      <td>22.30</td>\n",
       "      <td>22.34</td>\n",
       "      <td>22.32</td>\n",
       "    </tr>\n",
       "  </tbody>\n",
       "</table>\n",
       "</div>"
      ],
      "text/plain": [
       "      SRD spec  SRD min  SRD stretch  overview  airmass  throughput  2exp\n",
       "band                                                                     \n",
       "u        23.90    23.40        24.00     23.79    23.56       23.85 23.63\n",
       "g        25.00    24.60        25.10     24.81    24.65       24.73 24.65\n",
       "r        24.70    24.30        24.80     24.36    24.21       24.26 24.22\n",
       "i        24.00    23.60        24.10     23.92    23.78       23.83 23.80\n",
       "z        23.30    22.90        23.40     23.33    23.22       23.26 23.24\n",
       "y        22.10    21.70        22.20     22.45    22.30       22.34 22.32"
      ]
     },
     "execution_count": 34,
     "metadata": {},
     "output_type": "execute_result"
    }
   ],
   "source": [
    "m5['2exp'] = overview_table2.reset_index().apply(\n",
    "        lambda r: m5_flat_sed(r['band'], r['m_sky'], original_seeing_12[r['band']], expTime=15, airmass=1.2, nexp=2), axis=1).values\n",
    "m5"
   ]
  },
  {
   "cell_type": "markdown",
   "metadata": {},
   "source": [
    "Compare with the difference reported in overview table 2:"
   ]
  },
  {
   "cell_type": "code",
   "execution_count": 35,
   "metadata": {},
   "outputs": [
    {
     "data": {
      "text/html": [
       "<div>\n",
       "<style scoped>\n",
       "    .dataframe tbody tr th:only-of-type {\n",
       "        vertical-align: middle;\n",
       "    }\n",
       "\n",
       "    .dataframe tbody tr th {\n",
       "        vertical-align: top;\n",
       "    }\n",
       "\n",
       "    .dataframe thead th {\n",
       "        text-align: right;\n",
       "    }\n",
       "</style>\n",
       "<table border=\"1\" class=\"dataframe\">\n",
       "  <thead>\n",
       "    <tr style=\"text-align: right;\">\n",
       "      <th></th>\n",
       "      <th>calculated</th>\n",
       "      <th>overview</th>\n",
       "      <th>diff</th>\n",
       "    </tr>\n",
       "    <tr>\n",
       "      <th>band</th>\n",
       "      <th></th>\n",
       "      <th></th>\n",
       "      <th></th>\n",
       "    </tr>\n",
       "  </thead>\n",
       "  <tbody>\n",
       "    <tr>\n",
       "      <th>u</th>\n",
       "      <td>0.22</td>\n",
       "      <td>0.23</td>\n",
       "      <td>0.01</td>\n",
       "    </tr>\n",
       "    <tr>\n",
       "      <th>g</th>\n",
       "      <td>0.08</td>\n",
       "      <td>0.08</td>\n",
       "      <td>-0.00</td>\n",
       "    </tr>\n",
       "    <tr>\n",
       "      <th>r</th>\n",
       "      <td>0.05</td>\n",
       "      <td>0.05</td>\n",
       "      <td>0.00</td>\n",
       "    </tr>\n",
       "    <tr>\n",
       "      <th>i</th>\n",
       "      <td>0.03</td>\n",
       "      <td>0.03</td>\n",
       "      <td>-0.00</td>\n",
       "    </tr>\n",
       "    <tr>\n",
       "      <th>z</th>\n",
       "      <td>0.02</td>\n",
       "      <td>0.02</td>\n",
       "      <td>-0.00</td>\n",
       "    </tr>\n",
       "    <tr>\n",
       "      <th>y</th>\n",
       "      <td>0.02</td>\n",
       "      <td>0.02</td>\n",
       "      <td>0.00</td>\n",
       "    </tr>\n",
       "  </tbody>\n",
       "</table>\n",
       "</div>"
      ],
      "text/plain": [
       "      calculated  overview  diff\n",
       "band                            \n",
       "u           0.22      0.23  0.01\n",
       "g           0.08      0.08 -0.00\n",
       "r           0.05      0.05  0.00\n",
       "i           0.03      0.03 -0.00\n",
       "z           0.02      0.02 -0.00\n",
       "y           0.02      0.02  0.00"
      ]
     },
     "execution_count": 35,
     "metadata": {},
     "output_type": "execute_result"
    }
   ],
   "source": [
    "pd.DataFrame({'calculated': m5['throughput'] - m5['2exp'],\n",
    "              'overview': overview_table2['Delta_C_m_2'],\n",
    "              'diff': overview_table2['Delta_C_m_2'] + m5['2exp'] - m5['throughput']})"
   ]
  },
  {
   "cell_type": "markdown",
   "metadata": {},
   "source": [
    "## Change to the latest seeing model"
   ]
  },
  {
   "cell_type": "code",
   "execution_count": 36,
   "metadata": {},
   "outputs": [
    {
     "data": {
      "text/plain": [
       "band\n",
       "u   1.12\n",
       "g   1.06\n",
       "r   1.00\n",
       "i   0.96\n",
       "z   0.93\n",
       "y   0.91\n",
       "dtype: float64"
      ]
     },
     "execution_count": 36,
     "metadata": {},
     "output_type": "execute_result"
    }
   ],
   "source": [
    "seeing_airmass12 = pd.Series(seeing_model(seeing500, 1.2)['fwhmEff'], index=bands.band)\n",
    "seeing_airmass12"
   ]
  },
  {
   "cell_type": "code",
   "execution_count": 37,
   "metadata": {},
   "outputs": [
    {
     "data": {
      "text/html": [
       "<div>\n",
       "<style scoped>\n",
       "    .dataframe tbody tr th:only-of-type {\n",
       "        vertical-align: middle;\n",
       "    }\n",
       "\n",
       "    .dataframe tbody tr th {\n",
       "        vertical-align: top;\n",
       "    }\n",
       "\n",
       "    .dataframe thead th {\n",
       "        text-align: right;\n",
       "    }\n",
       "</style>\n",
       "<table border=\"1\" class=\"dataframe\">\n",
       "  <thead>\n",
       "    <tr style=\"text-align: right;\">\n",
       "      <th></th>\n",
       "      <th>SRD spec</th>\n",
       "      <th>SRD min</th>\n",
       "      <th>SRD stretch</th>\n",
       "      <th>overview</th>\n",
       "      <th>airmass</th>\n",
       "      <th>throughput</th>\n",
       "      <th>2exp</th>\n",
       "      <th>seeing</th>\n",
       "    </tr>\n",
       "    <tr>\n",
       "      <th>band</th>\n",
       "      <th></th>\n",
       "      <th></th>\n",
       "      <th></th>\n",
       "      <th></th>\n",
       "      <th></th>\n",
       "      <th></th>\n",
       "      <th></th>\n",
       "      <th></th>\n",
       "    </tr>\n",
       "  </thead>\n",
       "  <tbody>\n",
       "    <tr>\n",
       "      <th>u</th>\n",
       "      <td>23.90</td>\n",
       "      <td>23.40</td>\n",
       "      <td>24.00</td>\n",
       "      <td>23.79</td>\n",
       "      <td>23.56</td>\n",
       "      <td>23.85</td>\n",
       "      <td>23.63</td>\n",
       "      <td>23.54</td>\n",
       "    </tr>\n",
       "    <tr>\n",
       "      <th>g</th>\n",
       "      <td>25.00</td>\n",
       "      <td>24.60</td>\n",
       "      <td>25.10</td>\n",
       "      <td>24.81</td>\n",
       "      <td>24.65</td>\n",
       "      <td>24.73</td>\n",
       "      <td>24.65</td>\n",
       "      <td>24.56</td>\n",
       "    </tr>\n",
       "    <tr>\n",
       "      <th>r</th>\n",
       "      <td>24.70</td>\n",
       "      <td>24.30</td>\n",
       "      <td>24.80</td>\n",
       "      <td>24.36</td>\n",
       "      <td>24.21</td>\n",
       "      <td>24.26</td>\n",
       "      <td>24.22</td>\n",
       "      <td>24.13</td>\n",
       "    </tr>\n",
       "    <tr>\n",
       "      <th>i</th>\n",
       "      <td>24.00</td>\n",
       "      <td>23.60</td>\n",
       "      <td>24.10</td>\n",
       "      <td>23.92</td>\n",
       "      <td>23.78</td>\n",
       "      <td>23.83</td>\n",
       "      <td>23.80</td>\n",
       "      <td>23.72</td>\n",
       "    </tr>\n",
       "    <tr>\n",
       "      <th>z</th>\n",
       "      <td>23.30</td>\n",
       "      <td>22.90</td>\n",
       "      <td>23.40</td>\n",
       "      <td>23.33</td>\n",
       "      <td>23.22</td>\n",
       "      <td>23.26</td>\n",
       "      <td>23.24</td>\n",
       "      <td>23.16</td>\n",
       "    </tr>\n",
       "    <tr>\n",
       "      <th>y</th>\n",
       "      <td>22.10</td>\n",
       "      <td>21.70</td>\n",
       "      <td>22.20</td>\n",
       "      <td>22.45</td>\n",
       "      <td>22.30</td>\n",
       "      <td>22.34</td>\n",
       "      <td>22.32</td>\n",
       "      <td>22.24</td>\n",
       "    </tr>\n",
       "  </tbody>\n",
       "</table>\n",
       "</div>"
      ],
      "text/plain": [
       "      SRD spec  SRD min  SRD stretch  overview  airmass  throughput  2exp  \\\n",
       "band                                                                        \n",
       "u        23.90    23.40        24.00     23.79    23.56       23.85 23.63   \n",
       "g        25.00    24.60        25.10     24.81    24.65       24.73 24.65   \n",
       "r        24.70    24.30        24.80     24.36    24.21       24.26 24.22   \n",
       "i        24.00    23.60        24.10     23.92    23.78       23.83 23.80   \n",
       "z        23.30    22.90        23.40     23.33    23.22       23.26 23.24   \n",
       "y        22.10    21.70        22.20     22.45    22.30       22.34 22.32   \n",
       "\n",
       "      seeing  \n",
       "band          \n",
       "u      23.54  \n",
       "g      24.56  \n",
       "r      24.13  \n",
       "i      23.72  \n",
       "z      23.16  \n",
       "y      22.24  "
      ]
     },
     "execution_count": 37,
     "metadata": {},
     "output_type": "execute_result"
    }
   ],
   "source": [
    "m5['seeing'] = overview_table2.reset_index().apply(\n",
    "        lambda r: m5_flat_sed(r['band'], r['m_sky'], seeing_airmass12[r['band']], expTime=15, airmass=1.2, nexp=2), axis=1).values\n",
    "m5"
   ]
  },
  {
   "cell_type": "markdown",
   "metadata": {},
   "source": [
    "## Change to the latest sky brightness model and airmass=1.2"
   ]
  },
  {
   "cell_type": "code",
   "execution_count": 38,
   "metadata": {},
   "outputs": [],
   "source": [
    "night_idxs = sun_coords.alt.deg < -14\n",
    "night_mjds = all_mjds[night_idxs]\n",
    "night_times = all_times[night_idxs]"
   ]
  },
  {
   "cell_type": "code",
   "execution_count": 39,
   "metadata": {},
   "outputs": [],
   "source": [
    "def compute_zd_from_airmass(airmass, a=470.0):\n",
    "    mu = (1.0/airmass) + (1/(2.0*a))*((1.0/airmass) - airmass)\n",
    "    zd = np.degrees(np.arccos(mu))\n",
    "    return zd\n",
    "\n",
    "if __debug__:\n",
    "    # Bemporad values (empirical values for airmass as a function of zenith distance)\n",
    "    assert compute_zd_from_airmass(1)==0\n",
    "    assert np.round(compute_zd_from_airmass(1.154), 1)==30\n",
    "    assert np.round(compute_zd_from_airmass(1.995), 1)==60\n",
    "    assert np.round(compute_zd_from_airmass(2.904), 1)==70\n",
    "    assert np.round(compute_zd_from_airmass(18.8))==88"
   ]
  },
  {
   "cell_type": "code",
   "execution_count": 40,
   "metadata": {},
   "outputs": [],
   "source": [
    "def compute_transiting_hpixs(mjd, airmass, site, nside, north=True):\n",
    "    zd = compute_zd_from_airmass(airmass)\n",
    "    lst = Time(mjd, format='mjd', location=site).sidereal_time('apparent').to_value(u.degree)\n",
    "    ra = lst\n",
    "    decl = site.lat.deg + zd if north else site.lat.degrees - zd\n",
    "    hpix = healpy.ang2pix(nside, ra, decl, lonlat=True)\n",
    "    return hpix"
   ]
  },
  {
   "cell_type": "markdown",
   "metadata": {},
   "source": [
    "Actually calculate the sky brightnesses:"
   ]
  },
  {
   "cell_type": "code",
   "execution_count": 41,
   "metadata": {},
   "outputs": [
    {
     "name": "stderr",
     "output_type": "stream",
     "text": [
      "/data/des91.b/data/neilsen/LSST/devel/rubin_sim/rubin_sim/skybrightness_pre/SkyModelPre.py:359: UserWarning: Requested MJD between sunrise and sunset, returning closest maps\n",
      "  warnings.warn('Requested MJD between sunrise and sunset, returning closest maps')\n"
     ]
    },
    {
     "data": {
      "image/png": "[encoded data removed]",
      "text/plain": [
       "<Figure size 576x360 with 1 Axes>"
      ]
     },
     "metadata": {},
     "output_type": "display_data"
    }
   ],
   "source": [
    "def compute_transiting_mags(mjds, sky_model, **kwargs):\n",
    "    transiting_hpixs = pd.DataFrame({'mjd': mjds,\n",
    "                                     'hpix': compute_transiting_hpixs(mjds, **kwargs)})\n",
    "    mags = transiting_hpixs.apply(\n",
    "        lambda x: pd.Series({k: m[0] for k, m in sky_model.returnMags(x.mjd, indx=np.array([x.hpix], dtype=int), badval=np.nan, zenith_mask=False).items()}),\n",
    "        axis=1)\n",
    "    mags['mjd'] = mjds\n",
    "    return mags\n",
    "    \n",
    "if __debug__:\n",
    "    df = compute_transiting_mags(np.arange(60000.7, 60001.7, 0.01), sky_model, airmass=1.2, site=site, nside=sky_model.nside)\n",
    "    ax = None\n",
    "    for band in bands.band:\n",
    "        ax = df.plot('mjd', band, ax=ax)"
   ]
  },
  {
   "cell_type": "code",
   "execution_count": 42,
   "metadata": {},
   "outputs": [
    {
     "name": "stdout",
     "output_type": "stream",
     "text": [
      "CPU times: user 1.1 ms, sys: 6.1 ms, total: 7.2 ms\n",
      "Wall time: 4.78 ms\n"
     ]
    }
   ],
   "source": [
    "%%time\n",
    "try:\n",
    "    with open(sky_x12_cache_fname, 'rb') as sky_cache:\n",
    "        sky_mags_x12 = pickle.load(sky_cache)\n",
    "except FileNotFoundError:\n",
    "    sky_mags_x12 = compute_transiting_mags(night_mjds, sky_model=sky_model, airmass=1.2, site=site, nside=sky_model.nside)\n",
    "    with open(sky_x12_cache_fname, 'wb') as sky_cache:\n",
    "        pickle.dump(sky_mags_x12, sky_cache)"
   ]
  },
  {
   "cell_type": "code",
   "execution_count": 43,
   "metadata": {},
   "outputs": [
    {
     "data": {
      "text/html": [
       "<div>\n",
       "<style scoped>\n",
       "    .dataframe tbody tr th:only-of-type {\n",
       "        vertical-align: middle;\n",
       "    }\n",
       "\n",
       "    .dataframe tbody tr th {\n",
       "        vertical-align: top;\n",
       "    }\n",
       "\n",
       "    .dataframe thead th {\n",
       "        text-align: right;\n",
       "    }\n",
       "</style>\n",
       "<table border=\"1\" class=\"dataframe\">\n",
       "  <thead>\n",
       "    <tr style=\"text-align: right;\">\n",
       "      <th></th>\n",
       "      <th>u</th>\n",
       "      <th>g</th>\n",
       "      <th>r</th>\n",
       "      <th>i</th>\n",
       "      <th>z</th>\n",
       "      <th>y</th>\n",
       "      <th>mjd</th>\n",
       "    </tr>\n",
       "  </thead>\n",
       "  <tbody>\n",
       "    <tr>\n",
       "      <th>count</th>\n",
       "      <td>146227.00</td>\n",
       "      <td>146227.00</td>\n",
       "      <td>146227.00</td>\n",
       "      <td>146227.00</td>\n",
       "      <td>146227.00</td>\n",
       "      <td>146227.00</td>\n",
       "      <td>148164.00</td>\n",
       "    </tr>\n",
       "    <tr>\n",
       "      <th>mean</th>\n",
       "      <td>21.32</td>\n",
       "      <td>20.68</td>\n",
       "      <td>20.05</td>\n",
       "      <td>19.61</td>\n",
       "      <td>18.92</td>\n",
       "      <td>18.28</td>\n",
       "      <td>61691.99</td>\n",
       "    </tr>\n",
       "    <tr>\n",
       "      <th>std</th>\n",
       "      <td>1.57</td>\n",
       "      <td>1.62</td>\n",
       "      <td>1.20</td>\n",
       "      <td>0.84</td>\n",
       "      <td>0.48</td>\n",
       "      <td>0.26</td>\n",
       "      <td>1054.35</td>\n",
       "    </tr>\n",
       "    <tr>\n",
       "      <th>min</th>\n",
       "      <td>17.75</td>\n",
       "      <td>16.93</td>\n",
       "      <td>16.85</td>\n",
       "      <td>17.01</td>\n",
       "      <td>17.08</td>\n",
       "      <td>17.07</td>\n",
       "      <td>59854.00</td>\n",
       "    </tr>\n",
       "    <tr>\n",
       "      <th>25%</th>\n",
       "      <td>19.85</td>\n",
       "      <td>19.13</td>\n",
       "      <td>19.04</td>\n",
       "      <td>19.03</td>\n",
       "      <td>18.70</td>\n",
       "      <td>18.19</td>\n",
       "      <td>60788.37</td>\n",
       "    </tr>\n",
       "    <tr>\n",
       "      <th>50%</th>\n",
       "      <td>22.45</td>\n",
       "      <td>21.83</td>\n",
       "      <td>20.87</td>\n",
       "      <td>20.16</td>\n",
       "      <td>19.22</td>\n",
       "      <td>18.43</td>\n",
       "      <td>61680.17</td>\n",
       "    </tr>\n",
       "    <tr>\n",
       "      <th>75%</th>\n",
       "      <td>22.56</td>\n",
       "      <td>21.96</td>\n",
       "      <td>20.95</td>\n",
       "      <td>20.21</td>\n",
       "      <td>19.25</td>\n",
       "      <td>18.44</td>\n",
       "      <td>62615.11</td>\n",
       "    </tr>\n",
       "    <tr>\n",
       "      <th>max</th>\n",
       "      <td>22.61</td>\n",
       "      <td>22.07</td>\n",
       "      <td>21.03</td>\n",
       "      <td>20.26</td>\n",
       "      <td>19.28</td>\n",
       "      <td>18.47</td>\n",
       "      <td>63506.39</td>\n",
       "    </tr>\n",
       "  </tbody>\n",
       "</table>\n",
       "</div>"
      ],
      "text/plain": [
       "              u         g         r         i         z         y       mjd\n",
       "count 146227.00 146227.00 146227.00 146227.00 146227.00 146227.00 148164.00\n",
       "mean      21.32     20.68     20.05     19.61     18.92     18.28  61691.99\n",
       "std        1.57      1.62      1.20      0.84      0.48      0.26   1054.35\n",
       "min       17.75     16.93     16.85     17.01     17.08     17.07  59854.00\n",
       "25%       19.85     19.13     19.04     19.03     18.70     18.19  60788.37\n",
       "50%       22.45     21.83     20.87     20.16     19.22     18.43  61680.17\n",
       "75%       22.56     21.96     20.95     20.21     19.25     18.44  62615.11\n",
       "max       22.61     22.07     21.03     20.26     19.28     18.47  63506.39"
      ]
     },
     "execution_count": 43,
     "metadata": {},
     "output_type": "execute_result"
    }
   ],
   "source": [
    "sky_x12_mag_stats = sky_mags_x12.describe()\n",
    "sky_x12_mag_stats"
   ]
  },
  {
   "cell_type": "markdown",
   "metadata": {},
   "source": [
    "The nominal total number of u, g, and r exposures is the same as the nominal total z and y.\n",
    "\n",
    "If we assume u, g, and r are observed in the darkest 50% of time, the z and y in the brightest, and the i evenly split, then we get:"
   ]
  },
  {
   "cell_type": "code",
   "execution_count": 44,
   "metadata": {},
   "outputs": [
    {
     "data": {
      "text/plain": [
       "band\n",
       "u   22.56\n",
       "g   21.96\n",
       "r   20.95\n",
       "i   20.16\n",
       "z   18.70\n",
       "y   18.19\n",
       "dtype: float64"
      ]
     },
     "execution_count": 44,
     "metadata": {},
     "output_type": "execute_result"
    }
   ],
   "source": [
    "typical_m_sky = pd.Series([\n",
    "    sky_x12_mag_stats.loc['75%', 'u'],\n",
    "    sky_x12_mag_stats.loc['75%', 'g'],\n",
    "    sky_x12_mag_stats.loc['75%', 'r'],\n",
    "    sky_x12_mag_stats.loc['50%', 'i'],\n",
    "    sky_x12_mag_stats.loc['25%', 'z'],\n",
    "    sky_x12_mag_stats.loc['25%', 'y']],\n",
    "    index=bands.index\n",
    ")\n",
    "typical_m_sky"
   ]
  },
  {
   "cell_type": "code",
   "execution_count": 45,
   "metadata": {},
   "outputs": [
    {
     "data": {
      "text/html": [
       "<div>\n",
       "<style scoped>\n",
       "    .dataframe tbody tr th:only-of-type {\n",
       "        vertical-align: middle;\n",
       "    }\n",
       "\n",
       "    .dataframe tbody tr th {\n",
       "        vertical-align: top;\n",
       "    }\n",
       "\n",
       "    .dataframe thead th {\n",
       "        text-align: right;\n",
       "    }\n",
       "</style>\n",
       "<table border=\"1\" class=\"dataframe\">\n",
       "  <thead>\n",
       "    <tr style=\"text-align: right;\">\n",
       "      <th></th>\n",
       "      <th>SRD spec</th>\n",
       "      <th>SRD min</th>\n",
       "      <th>SRD stretch</th>\n",
       "      <th>overview</th>\n",
       "      <th>airmass</th>\n",
       "      <th>throughput</th>\n",
       "      <th>2exp</th>\n",
       "      <th>seeing</th>\n",
       "      <th>sky</th>\n",
       "    </tr>\n",
       "    <tr>\n",
       "      <th>band</th>\n",
       "      <th></th>\n",
       "      <th></th>\n",
       "      <th></th>\n",
       "      <th></th>\n",
       "      <th></th>\n",
       "      <th></th>\n",
       "      <th></th>\n",
       "      <th></th>\n",
       "      <th></th>\n",
       "    </tr>\n",
       "  </thead>\n",
       "  <tbody>\n",
       "    <tr>\n",
       "      <th>u</th>\n",
       "      <td>23.90</td>\n",
       "      <td>23.40</td>\n",
       "      <td>24.00</td>\n",
       "      <td>23.79</td>\n",
       "      <td>23.56</td>\n",
       "      <td>23.85</td>\n",
       "      <td>23.63</td>\n",
       "      <td>23.54</td>\n",
       "      <td>23.46</td>\n",
       "    </tr>\n",
       "    <tr>\n",
       "      <th>g</th>\n",
       "      <td>25.00</td>\n",
       "      <td>24.60</td>\n",
       "      <td>25.10</td>\n",
       "      <td>24.81</td>\n",
       "      <td>24.65</td>\n",
       "      <td>24.73</td>\n",
       "      <td>24.65</td>\n",
       "      <td>24.56</td>\n",
       "      <td>24.45</td>\n",
       "    </tr>\n",
       "    <tr>\n",
       "      <th>r</th>\n",
       "      <td>24.70</td>\n",
       "      <td>24.30</td>\n",
       "      <td>24.80</td>\n",
       "      <td>24.36</td>\n",
       "      <td>24.21</td>\n",
       "      <td>24.26</td>\n",
       "      <td>24.22</td>\n",
       "      <td>24.13</td>\n",
       "      <td>24.03</td>\n",
       "    </tr>\n",
       "    <tr>\n",
       "      <th>i</th>\n",
       "      <td>24.00</td>\n",
       "      <td>23.60</td>\n",
       "      <td>24.10</td>\n",
       "      <td>23.92</td>\n",
       "      <td>23.78</td>\n",
       "      <td>23.83</td>\n",
       "      <td>23.80</td>\n",
       "      <td>23.72</td>\n",
       "      <td>23.58</td>\n",
       "    </tr>\n",
       "    <tr>\n",
       "      <th>z</th>\n",
       "      <td>23.30</td>\n",
       "      <td>22.90</td>\n",
       "      <td>23.40</td>\n",
       "      <td>23.33</td>\n",
       "      <td>23.22</td>\n",
       "      <td>23.26</td>\n",
       "      <td>23.24</td>\n",
       "      <td>23.16</td>\n",
       "      <td>22.74</td>\n",
       "    </tr>\n",
       "    <tr>\n",
       "      <th>y</th>\n",
       "      <td>22.10</td>\n",
       "      <td>21.70</td>\n",
       "      <td>22.20</td>\n",
       "      <td>22.45</td>\n",
       "      <td>22.30</td>\n",
       "      <td>22.34</td>\n",
       "      <td>22.32</td>\n",
       "      <td>22.24</td>\n",
       "      <td>22.04</td>\n",
       "    </tr>\n",
       "  </tbody>\n",
       "</table>\n",
       "</div>"
      ],
      "text/plain": [
       "      SRD spec  SRD min  SRD stretch  overview  airmass  throughput  2exp  \\\n",
       "band                                                                        \n",
       "u        23.90    23.40        24.00     23.79    23.56       23.85 23.63   \n",
       "g        25.00    24.60        25.10     24.81    24.65       24.73 24.65   \n",
       "r        24.70    24.30        24.80     24.36    24.21       24.26 24.22   \n",
       "i        24.00    23.60        24.10     23.92    23.78       23.83 23.80   \n",
       "z        23.30    22.90        23.40     23.33    23.22       23.26 23.24   \n",
       "y        22.10    21.70        22.20     22.45    22.30       22.34 22.32   \n",
       "\n",
       "      seeing   sky  \n",
       "band                \n",
       "u      23.54 23.46  \n",
       "g      24.56 24.45  \n",
       "r      24.13 24.03  \n",
       "i      23.72 23.58  \n",
       "z      23.16 22.74  \n",
       "y      22.24 22.04  "
      ]
     },
     "execution_count": 45,
     "metadata": {},
     "output_type": "execute_result"
    }
   ],
   "source": [
    "m5['sky'] = overview_table2.reset_index().apply(\n",
    "        lambda r: m5_flat_sed(r['band'], typical_m_sky[r['band']], seeing_airmass12[r['band']], expTime=15, airmass=1.2, nexp=2), axis=1).values\n",
    "m5"
   ]
  },
  {
   "cell_type": "markdown",
   "metadata": {},
   "source": [
    "## Baseline median and mean"
   ]
  },
  {
   "cell_type": "markdown",
   "metadata": {},
   "source": [
    "Look at what a baseline `opsim` simulation actually achieves."
   ]
  },
  {
   "cell_type": "code",
   "execution_count": 46,
   "metadata": {},
   "outputs": [],
   "source": [
    "try:\n",
    "    visits = pd.read_hdf(visit_cache, opsim_name)\n",
    "except (FileNotFoundError, KeyError):\n",
    "    with sqlite3.connect(opsim_fname) as con:\n",
    "        visits = pd.read_sql_query('SELECT * FROM SummaryAllProps', con)\n",
    "    visits.set_index('filter', drop=False, inplace=True)\n",
    "    visits.index.name = 'band'\n",
    "    visits.to_hdf(visit_cache, opsim_name)"
   ]
  },
  {
   "cell_type": "code",
   "execution_count": 47,
   "metadata": {},
   "outputs": [
    {
     "data": {
      "text/html": [
       "<div>\n",
       "<style scoped>\n",
       "    .dataframe tbody tr th:only-of-type {\n",
       "        vertical-align: middle;\n",
       "    }\n",
       "\n",
       "    .dataframe tbody tr th {\n",
       "        vertical-align: top;\n",
       "    }\n",
       "\n",
       "    .dataframe thead th {\n",
       "        text-align: right;\n",
       "    }\n",
       "</style>\n",
       "<table border=\"1\" class=\"dataframe\">\n",
       "  <thead>\n",
       "    <tr style=\"text-align: right;\">\n",
       "      <th></th>\n",
       "      <th>SRD spec</th>\n",
       "      <th>SRD min</th>\n",
       "      <th>SRD stretch</th>\n",
       "      <th>overview</th>\n",
       "      <th>airmass</th>\n",
       "      <th>throughput</th>\n",
       "      <th>2exp</th>\n",
       "      <th>seeing</th>\n",
       "      <th>sky</th>\n",
       "      <th>b. median</th>\n",
       "      <th>b. mean</th>\n",
       "    </tr>\n",
       "    <tr>\n",
       "      <th>band</th>\n",
       "      <th></th>\n",
       "      <th></th>\n",
       "      <th></th>\n",
       "      <th></th>\n",
       "      <th></th>\n",
       "      <th></th>\n",
       "      <th></th>\n",
       "      <th></th>\n",
       "      <th></th>\n",
       "      <th></th>\n",
       "      <th></th>\n",
       "    </tr>\n",
       "  </thead>\n",
       "  <tbody>\n",
       "    <tr>\n",
       "      <th>u</th>\n",
       "      <td>23.90</td>\n",
       "      <td>23.40</td>\n",
       "      <td>24.00</td>\n",
       "      <td>23.79</td>\n",
       "      <td>23.56</td>\n",
       "      <td>23.85</td>\n",
       "      <td>23.63</td>\n",
       "      <td>23.54</td>\n",
       "      <td>23.46</td>\n",
       "      <td>23.39</td>\n",
       "      <td>23.35</td>\n",
       "    </tr>\n",
       "    <tr>\n",
       "      <th>g</th>\n",
       "      <td>25.00</td>\n",
       "      <td>24.60</td>\n",
       "      <td>25.10</td>\n",
       "      <td>24.81</td>\n",
       "      <td>24.65</td>\n",
       "      <td>24.73</td>\n",
       "      <td>24.65</td>\n",
       "      <td>24.56</td>\n",
       "      <td>24.45</td>\n",
       "      <td>24.44</td>\n",
       "      <td>24.40</td>\n",
       "    </tr>\n",
       "    <tr>\n",
       "      <th>r</th>\n",
       "      <td>24.70</td>\n",
       "      <td>24.30</td>\n",
       "      <td>24.80</td>\n",
       "      <td>24.36</td>\n",
       "      <td>24.21</td>\n",
       "      <td>24.26</td>\n",
       "      <td>24.22</td>\n",
       "      <td>24.13</td>\n",
       "      <td>24.03</td>\n",
       "      <td>24.00</td>\n",
       "      <td>23.96</td>\n",
       "    </tr>\n",
       "    <tr>\n",
       "      <th>i</th>\n",
       "      <td>24.00</td>\n",
       "      <td>23.60</td>\n",
       "      <td>24.10</td>\n",
       "      <td>23.92</td>\n",
       "      <td>23.78</td>\n",
       "      <td>23.83</td>\n",
       "      <td>23.80</td>\n",
       "      <td>23.72</td>\n",
       "      <td>23.58</td>\n",
       "      <td>23.43</td>\n",
       "      <td>23.37</td>\n",
       "    </tr>\n",
       "    <tr>\n",
       "      <th>z</th>\n",
       "      <td>23.30</td>\n",
       "      <td>22.90</td>\n",
       "      <td>23.40</td>\n",
       "      <td>23.33</td>\n",
       "      <td>23.22</td>\n",
       "      <td>23.26</td>\n",
       "      <td>23.24</td>\n",
       "      <td>23.16</td>\n",
       "      <td>22.74</td>\n",
       "      <td>22.78</td>\n",
       "      <td>22.74</td>\n",
       "    </tr>\n",
       "    <tr>\n",
       "      <th>y</th>\n",
       "      <td>22.10</td>\n",
       "      <td>21.70</td>\n",
       "      <td>22.20</td>\n",
       "      <td>22.45</td>\n",
       "      <td>22.30</td>\n",
       "      <td>22.34</td>\n",
       "      <td>22.32</td>\n",
       "      <td>22.24</td>\n",
       "      <td>22.04</td>\n",
       "      <td>22.00</td>\n",
       "      <td>21.97</td>\n",
       "    </tr>\n",
       "  </tbody>\n",
       "</table>\n",
       "</div>"
      ],
      "text/plain": [
       "      SRD spec  SRD min  SRD stretch  overview  airmass  throughput  2exp  \\\n",
       "band                                                                        \n",
       "u        23.90    23.40        24.00     23.79    23.56       23.85 23.63   \n",
       "g        25.00    24.60        25.10     24.81    24.65       24.73 24.65   \n",
       "r        24.70    24.30        24.80     24.36    24.21       24.26 24.22   \n",
       "i        24.00    23.60        24.10     23.92    23.78       23.83 23.80   \n",
       "z        23.30    22.90        23.40     23.33    23.22       23.26 23.24   \n",
       "y        22.10    21.70        22.20     22.45    22.30       22.34 22.32   \n",
       "\n",
       "      seeing   sky  b. median  b. mean  \n",
       "band                                    \n",
       "u      23.54 23.46      23.39    23.35  \n",
       "g      24.56 24.45      24.44    24.40  \n",
       "r      24.13 24.03      24.00    23.96  \n",
       "i      23.72 23.58      23.43    23.37  \n",
       "z      23.16 22.74      22.78    22.74  \n",
       "y      22.24 22.04      22.00    21.97  "
      ]
     },
     "execution_count": 47,
     "metadata": {},
     "output_type": "execute_result"
    }
   ],
   "source": [
    "m5['b. median'] = visits.groupby('band').agg({'fiveSigmaDepth': 'median'}).loc[bands.index, 'fiveSigmaDepth'].T\n",
    "m5['b. mean'] = visits.groupby('band').agg({'fiveSigmaDepth': 'mean'}).loc[bands.index, 'fiveSigmaDepth'].T\n",
    "m5"
   ]
  },
  {
   "cell_type": "markdown",
   "metadata": {},
   "source": [
    "## Baseline mag from mean t_eff"
   ]
  },
  {
   "cell_type": "code",
   "execution_count": 48,
   "metadata": {},
   "outputs": [],
   "source": [
    "def compute_teff(ref_mags, mags=visits.fiveSigmaDepth):\n",
    "    t_eff = 10**(0.8*(mags-ref_mags.loc[mags.index]))\n",
    "    return t_eff"
   ]
  },
  {
   "cell_type": "code",
   "execution_count": 49,
   "metadata": {},
   "outputs": [
    {
     "data": {
      "text/html": [
       "<div>\n",
       "<style scoped>\n",
       "    .dataframe tbody tr th:only-of-type {\n",
       "        vertical-align: middle;\n",
       "    }\n",
       "\n",
       "    .dataframe tbody tr th {\n",
       "        vertical-align: top;\n",
       "    }\n",
       "\n",
       "    .dataframe thead th {\n",
       "        text-align: right;\n",
       "    }\n",
       "</style>\n",
       "<table border=\"1\" class=\"dataframe\">\n",
       "  <thead>\n",
       "    <tr style=\"text-align: right;\">\n",
       "      <th></th>\n",
       "      <th>SRD spec</th>\n",
       "      <th>SRD min</th>\n",
       "      <th>SRD stretch</th>\n",
       "      <th>overview</th>\n",
       "      <th>airmass</th>\n",
       "      <th>throughput</th>\n",
       "      <th>2exp</th>\n",
       "      <th>seeing</th>\n",
       "      <th>sky</th>\n",
       "      <th>b. median</th>\n",
       "      <th>b. mean</th>\n",
       "      <th>b. teff mean</th>\n",
       "    </tr>\n",
       "    <tr>\n",
       "      <th>band</th>\n",
       "      <th></th>\n",
       "      <th></th>\n",
       "      <th></th>\n",
       "      <th></th>\n",
       "      <th></th>\n",
       "      <th></th>\n",
       "      <th></th>\n",
       "      <th></th>\n",
       "      <th></th>\n",
       "      <th></th>\n",
       "      <th></th>\n",
       "      <th></th>\n",
       "    </tr>\n",
       "  </thead>\n",
       "  <tbody>\n",
       "    <tr>\n",
       "      <th>u</th>\n",
       "      <td>23.90</td>\n",
       "      <td>23.40</td>\n",
       "      <td>24.00</td>\n",
       "      <td>23.79</td>\n",
       "      <td>23.56</td>\n",
       "      <td>23.85</td>\n",
       "      <td>23.63</td>\n",
       "      <td>23.54</td>\n",
       "      <td>23.46</td>\n",
       "      <td>23.39</td>\n",
       "      <td>23.35</td>\n",
       "      <td>23.45</td>\n",
       "    </tr>\n",
       "    <tr>\n",
       "      <th>g</th>\n",
       "      <td>25.00</td>\n",
       "      <td>24.60</td>\n",
       "      <td>25.10</td>\n",
       "      <td>24.81</td>\n",
       "      <td>24.65</td>\n",
       "      <td>24.73</td>\n",
       "      <td>24.65</td>\n",
       "      <td>24.56</td>\n",
       "      <td>24.45</td>\n",
       "      <td>24.44</td>\n",
       "      <td>24.40</td>\n",
       "      <td>24.50</td>\n",
       "    </tr>\n",
       "    <tr>\n",
       "      <th>r</th>\n",
       "      <td>24.70</td>\n",
       "      <td>24.30</td>\n",
       "      <td>24.80</td>\n",
       "      <td>24.36</td>\n",
       "      <td>24.21</td>\n",
       "      <td>24.26</td>\n",
       "      <td>24.22</td>\n",
       "      <td>24.13</td>\n",
       "      <td>24.03</td>\n",
       "      <td>24.00</td>\n",
       "      <td>23.96</td>\n",
       "      <td>24.05</td>\n",
       "    </tr>\n",
       "    <tr>\n",
       "      <th>i</th>\n",
       "      <td>24.00</td>\n",
       "      <td>23.60</td>\n",
       "      <td>24.10</td>\n",
       "      <td>23.92</td>\n",
       "      <td>23.78</td>\n",
       "      <td>23.83</td>\n",
       "      <td>23.80</td>\n",
       "      <td>23.72</td>\n",
       "      <td>23.58</td>\n",
       "      <td>23.43</td>\n",
       "      <td>23.37</td>\n",
       "      <td>23.50</td>\n",
       "    </tr>\n",
       "    <tr>\n",
       "      <th>z</th>\n",
       "      <td>23.30</td>\n",
       "      <td>22.90</td>\n",
       "      <td>23.40</td>\n",
       "      <td>23.33</td>\n",
       "      <td>23.22</td>\n",
       "      <td>23.26</td>\n",
       "      <td>23.24</td>\n",
       "      <td>23.16</td>\n",
       "      <td>22.74</td>\n",
       "      <td>22.78</td>\n",
       "      <td>22.74</td>\n",
       "      <td>22.84</td>\n",
       "    </tr>\n",
       "    <tr>\n",
       "      <th>y</th>\n",
       "      <td>22.10</td>\n",
       "      <td>21.70</td>\n",
       "      <td>22.20</td>\n",
       "      <td>22.45</td>\n",
       "      <td>22.30</td>\n",
       "      <td>22.34</td>\n",
       "      <td>22.32</td>\n",
       "      <td>22.24</td>\n",
       "      <td>22.04</td>\n",
       "      <td>22.00</td>\n",
       "      <td>21.97</td>\n",
       "      <td>22.06</td>\n",
       "    </tr>\n",
       "  </tbody>\n",
       "</table>\n",
       "</div>"
      ],
      "text/plain": [
       "      SRD spec  SRD min  SRD stretch  overview  airmass  throughput  2exp  \\\n",
       "band                                                                        \n",
       "u        23.90    23.40        24.00     23.79    23.56       23.85 23.63   \n",
       "g        25.00    24.60        25.10     24.81    24.65       24.73 24.65   \n",
       "r        24.70    24.30        24.80     24.36    24.21       24.26 24.22   \n",
       "i        24.00    23.60        24.10     23.92    23.78       23.83 23.80   \n",
       "z        23.30    22.90        23.40     23.33    23.22       23.26 23.24   \n",
       "y        22.10    21.70        22.20     22.45    22.30       22.34 22.32   \n",
       "\n",
       "      seeing   sky  b. median  b. mean  b. teff mean  \n",
       "band                                                  \n",
       "u      23.54 23.46      23.39    23.35         23.45  \n",
       "g      24.56 24.45      24.44    24.40         24.50  \n",
       "r      24.13 24.03      24.00    23.96         24.05  \n",
       "i      23.72 23.58      23.43    23.37         23.50  \n",
       "z      23.16 22.74      22.78    22.74         22.84  \n",
       "y      22.24 22.04      22.00    21.97         22.06  "
      ]
     },
     "execution_count": 49,
     "metadata": {},
     "output_type": "execute_result"
    }
   ],
   "source": [
    "m5['b. teff mean'] = m5['SRD spec'] + 1.25*np.log10(compute_teff(m5['SRD spec'], visits.fiveSigmaDepth).groupby('band').mean())\n",
    "m5"
   ]
  },
  {
   "cell_type": "code",
   "execution_count": 50,
   "metadata": {},
   "outputs": [
    {
     "name": "stdout",
     "output_type": "stream",
     "text": [
      "      SRD spec  SRD min  SRD stretch  overview  airmass  throughput  2exp  \\\n",
      "band                                                                        \n",
      "u        23.90    23.40        24.00     23.79    23.56       23.85 23.63   \n",
      "g        25.00    24.60        25.10     24.81    24.65       24.73 24.65   \n",
      "r        24.70    24.30        24.80     24.36    24.21       24.26 24.22   \n",
      "i        24.00    23.60        24.10     23.92    23.78       23.83 23.80   \n",
      "z        23.30    22.90        23.40     23.33    23.22       23.26 23.24   \n",
      "y        22.10    21.70        22.20     22.45    22.30       22.34 22.32   \n",
      "\n",
      "      seeing   sky  b. median  b. mean  b. teff mean  \n",
      "band                                                  \n",
      "u      23.54 23.46      23.39    23.35         23.45  \n",
      "g      24.56 24.45      24.44    24.40         24.50  \n",
      "r      24.13 24.03      24.00    23.96         24.05  \n",
      "i      23.72 23.58      23.43    23.37         23.50  \n",
      "z      23.16 22.74      22.78    22.74         22.84  \n",
      "y      22.24 22.04      22.00    21.97         22.06  \n"
     ]
    }
   ],
   "source": [
    "print(m5)"
   ]
  },
  {
   "cell_type": "markdown",
   "metadata": {},
   "source": [
    "## Plot how the magnitude limits change with each modification from the SRD"
   ]
  },
  {
   "cell_type": "code",
   "execution_count": 51,
   "metadata": {},
   "outputs": [
    {
     "data": {
      "image/png": "[encoded data removed]",
      "text/plain": [
       "<Figure size 1152x864 with 6 Axes>"
      ]
     },
     "metadata": {},
     "output_type": "display_data"
    }
   ],
   "source": [
    "m5_imp = m5[['overview', 'airmass', 'throughput', '2exp', 'seeing', 'sky']].T\n",
    "m5_imp.index.rename('step', inplace=True)\n",
    "m5_imp.reset_index(inplace=True)\n",
    "fig, axes = plt.subplots(2, 3, figsize=(16, 12))\n",
    "for band, ax in zip(bands.band, axes.flatten()):\n",
    "    ax.plot(m5_imp.index, m5_imp[band], marker='o', linestyle=' ', color='darkblue')\n",
    "    ax.plot(m5_imp.index, m5_imp[band], alpha=0.2, color='darkblue')\n",
    "    ax.set_xticks(np.arange(len(m5_imp['step'])))\n",
    "    ax.set_xticklabels(m5_imp['step'], rotation=20)\n",
    "    ax.set_title(band)\n",
    "    ax.axhline(m5.loc[band, 'SRD spec'], linestyle=':', color='k')\n",
    "    ax.text(0, m5.loc[band, 'SRD spec'], 'SRD spec', horizontalalignment='left', verticalalignment='top', color='k')\n",
    "    ax.axhline(m5.loc[band, 'SRD min'], linestyle=':', color='r')\n",
    "    ax.text(0, m5.loc[band, 'SRD min'], 'SRD min', horizontalalignment='left', verticalalignment='bottom', color='r')\n",
    "    ax.axhline(m5.loc[band, 'SRD stretch'], linestyle=':', color='g')\n",
    "    ax.text(0, m5.loc[band, 'SRD stretch'], 'SRD stretch', horizontalalignment='left', verticalalignment='top', color='g')\n",
    "    ax.axhline(m5.loc[band, 'b. median'], linestyle='--', color='b')\n",
    "    ax.text(0, m5.loc[band, 'b. median'], 'baseline 1.7 sim median', horizontalalignment='left', verticalalignment='top', color='b')\n",
    "    ax.axhline(m5.loc[band, 'b. teff mean'], linestyle='--', color='k')\n",
    "    ax.text(0, m5.loc[band, 'b. teff mean'], 'baseline 1.7 sim t_eff mean', horizontalalignment='left', verticalalignment='top', color='k')"
   ]
  },
  {
   "cell_type": "markdown",
   "metadata": {},
   "source": [
    "## Examine as differences from baseline averages"
   ]
  },
  {
   "cell_type": "code",
   "execution_count": 52,
   "metadata": {},
   "outputs": [
    {
     "data": {
      "text/html": [
       "<div>\n",
       "<style scoped>\n",
       "    .dataframe tbody tr th:only-of-type {\n",
       "        vertical-align: middle;\n",
       "    }\n",
       "\n",
       "    .dataframe tbody tr th {\n",
       "        vertical-align: top;\n",
       "    }\n",
       "\n",
       "    .dataframe thead th {\n",
       "        text-align: right;\n",
       "    }\n",
       "</style>\n",
       "<table border=\"1\" class=\"dataframe\">\n",
       "  <thead>\n",
       "    <tr style=\"text-align: right;\">\n",
       "      <th></th>\n",
       "      <th>SRD spec</th>\n",
       "      <th>SRD min</th>\n",
       "      <th>SRD stretch</th>\n",
       "      <th>overview</th>\n",
       "      <th>airmass</th>\n",
       "      <th>throughput</th>\n",
       "      <th>2exp</th>\n",
       "      <th>seeing</th>\n",
       "      <th>sky</th>\n",
       "      <th>b. median</th>\n",
       "      <th>b. mean</th>\n",
       "      <th>b. teff mean</th>\n",
       "    </tr>\n",
       "    <tr>\n",
       "      <th>band</th>\n",
       "      <th></th>\n",
       "      <th></th>\n",
       "      <th></th>\n",
       "      <th></th>\n",
       "      <th></th>\n",
       "      <th></th>\n",
       "      <th></th>\n",
       "      <th></th>\n",
       "      <th></th>\n",
       "      <th></th>\n",
       "      <th></th>\n",
       "      <th></th>\n",
       "    </tr>\n",
       "  </thead>\n",
       "  <tbody>\n",
       "    <tr>\n",
       "      <th>u</th>\n",
       "      <td>0.45</td>\n",
       "      <td>-0.05</td>\n",
       "      <td>0.55</td>\n",
       "      <td>0.34</td>\n",
       "      <td>0.12</td>\n",
       "      <td>0.41</td>\n",
       "      <td>0.19</td>\n",
       "      <td>0.10</td>\n",
       "      <td>0.02</td>\n",
       "      <td>-0.06</td>\n",
       "      <td>-0.09</td>\n",
       "      <td>0.00</td>\n",
       "    </tr>\n",
       "    <tr>\n",
       "      <th>g</th>\n",
       "      <td>0.50</td>\n",
       "      <td>0.10</td>\n",
       "      <td>0.60</td>\n",
       "      <td>0.32</td>\n",
       "      <td>0.15</td>\n",
       "      <td>0.24</td>\n",
       "      <td>0.15</td>\n",
       "      <td>0.07</td>\n",
       "      <td>-0.05</td>\n",
       "      <td>-0.06</td>\n",
       "      <td>-0.10</td>\n",
       "      <td>0.00</td>\n",
       "    </tr>\n",
       "    <tr>\n",
       "      <th>r</th>\n",
       "      <td>0.65</td>\n",
       "      <td>0.25</td>\n",
       "      <td>0.75</td>\n",
       "      <td>0.30</td>\n",
       "      <td>0.16</td>\n",
       "      <td>0.21</td>\n",
       "      <td>0.16</td>\n",
       "      <td>0.08</td>\n",
       "      <td>-0.03</td>\n",
       "      <td>-0.05</td>\n",
       "      <td>-0.09</td>\n",
       "      <td>0.00</td>\n",
       "    </tr>\n",
       "    <tr>\n",
       "      <th>i</th>\n",
       "      <td>0.50</td>\n",
       "      <td>0.10</td>\n",
       "      <td>0.60</td>\n",
       "      <td>0.42</td>\n",
       "      <td>0.28</td>\n",
       "      <td>0.34</td>\n",
       "      <td>0.30</td>\n",
       "      <td>0.22</td>\n",
       "      <td>0.08</td>\n",
       "      <td>-0.07</td>\n",
       "      <td>-0.13</td>\n",
       "      <td>0.00</td>\n",
       "    </tr>\n",
       "    <tr>\n",
       "      <th>z</th>\n",
       "      <td>0.46</td>\n",
       "      <td>0.06</td>\n",
       "      <td>0.56</td>\n",
       "      <td>0.49</td>\n",
       "      <td>0.38</td>\n",
       "      <td>0.42</td>\n",
       "      <td>0.39</td>\n",
       "      <td>0.32</td>\n",
       "      <td>-0.11</td>\n",
       "      <td>-0.06</td>\n",
       "      <td>-0.10</td>\n",
       "      <td>0.00</td>\n",
       "    </tr>\n",
       "    <tr>\n",
       "      <th>y</th>\n",
       "      <td>0.04</td>\n",
       "      <td>-0.36</td>\n",
       "      <td>0.14</td>\n",
       "      <td>0.39</td>\n",
       "      <td>0.24</td>\n",
       "      <td>0.28</td>\n",
       "      <td>0.26</td>\n",
       "      <td>0.19</td>\n",
       "      <td>-0.01</td>\n",
       "      <td>-0.05</td>\n",
       "      <td>-0.08</td>\n",
       "      <td>0.00</td>\n",
       "    </tr>\n",
       "  </tbody>\n",
       "</table>\n",
       "</div>"
      ],
      "text/plain": [
       "      SRD spec  SRD min  SRD stretch  overview  airmass  throughput  2exp  \\\n",
       "band                                                                        \n",
       "u         0.45    -0.05         0.55      0.34     0.12        0.41  0.19   \n",
       "g         0.50     0.10         0.60      0.32     0.15        0.24  0.15   \n",
       "r         0.65     0.25         0.75      0.30     0.16        0.21  0.16   \n",
       "i         0.50     0.10         0.60      0.42     0.28        0.34  0.30   \n",
       "z         0.46     0.06         0.56      0.49     0.38        0.42  0.39   \n",
       "y         0.04    -0.36         0.14      0.39     0.24        0.28  0.26   \n",
       "\n",
       "      seeing   sky  b. median  b. mean  b. teff mean  \n",
       "band                                                  \n",
       "u       0.10  0.02      -0.06    -0.09          0.00  \n",
       "g       0.07 -0.05      -0.06    -0.10          0.00  \n",
       "r       0.08 -0.03      -0.05    -0.09          0.00  \n",
       "i       0.22  0.08      -0.07    -0.13          0.00  \n",
       "z       0.32 -0.11      -0.06    -0.10          0.00  \n",
       "y       0.19 -0.01      -0.05    -0.08          0.00  "
      ]
     },
     "execution_count": 52,
     "metadata": {},
     "output_type": "execute_result"
    }
   ],
   "source": [
    "m5.apply(lambda c: c - m5['b. teff mean'], axis=0)"
   ]
  },
  {
   "cell_type": "code",
   "execution_count": 53,
   "metadata": {},
   "outputs": [
    {
     "data": {
      "text/html": [
       "<div>\n",
       "<style scoped>\n",
       "    .dataframe tbody tr th:only-of-type {\n",
       "        vertical-align: middle;\n",
       "    }\n",
       "\n",
       "    .dataframe tbody tr th {\n",
       "        vertical-align: top;\n",
       "    }\n",
       "\n",
       "    .dataframe thead th {\n",
       "        text-align: right;\n",
       "    }\n",
       "</style>\n",
       "<table border=\"1\" class=\"dataframe\">\n",
       "  <thead>\n",
       "    <tr style=\"text-align: right;\">\n",
       "      <th></th>\n",
       "      <th>SRD spec</th>\n",
       "      <th>SRD min</th>\n",
       "      <th>SRD stretch</th>\n",
       "      <th>overview</th>\n",
       "      <th>airmass</th>\n",
       "      <th>throughput</th>\n",
       "      <th>2exp</th>\n",
       "      <th>seeing</th>\n",
       "      <th>sky</th>\n",
       "      <th>b. median</th>\n",
       "      <th>b. mean</th>\n",
       "      <th>b. teff mean</th>\n",
       "    </tr>\n",
       "    <tr>\n",
       "      <th>band</th>\n",
       "      <th></th>\n",
       "      <th></th>\n",
       "      <th></th>\n",
       "      <th></th>\n",
       "      <th></th>\n",
       "      <th></th>\n",
       "      <th></th>\n",
       "      <th></th>\n",
       "      <th></th>\n",
       "      <th></th>\n",
       "      <th></th>\n",
       "      <th></th>\n",
       "    </tr>\n",
       "  </thead>\n",
       "  <tbody>\n",
       "    <tr>\n",
       "      <th>u</th>\n",
       "      <td>0.51</td>\n",
       "      <td>0.01</td>\n",
       "      <td>0.61</td>\n",
       "      <td>0.40</td>\n",
       "      <td>0.17</td>\n",
       "      <td>0.47</td>\n",
       "      <td>0.24</td>\n",
       "      <td>0.15</td>\n",
       "      <td>0.07</td>\n",
       "      <td>0.00</td>\n",
       "      <td>-0.04</td>\n",
       "      <td>0.06</td>\n",
       "    </tr>\n",
       "    <tr>\n",
       "      <th>g</th>\n",
       "      <td>0.56</td>\n",
       "      <td>0.16</td>\n",
       "      <td>0.66</td>\n",
       "      <td>0.37</td>\n",
       "      <td>0.20</td>\n",
       "      <td>0.29</td>\n",
       "      <td>0.21</td>\n",
       "      <td>0.12</td>\n",
       "      <td>0.01</td>\n",
       "      <td>0.00</td>\n",
       "      <td>-0.04</td>\n",
       "      <td>0.06</td>\n",
       "    </tr>\n",
       "    <tr>\n",
       "      <th>r</th>\n",
       "      <td>0.70</td>\n",
       "      <td>0.30</td>\n",
       "      <td>0.80</td>\n",
       "      <td>0.35</td>\n",
       "      <td>0.21</td>\n",
       "      <td>0.26</td>\n",
       "      <td>0.21</td>\n",
       "      <td>0.13</td>\n",
       "      <td>0.02</td>\n",
       "      <td>0.00</td>\n",
       "      <td>-0.04</td>\n",
       "      <td>0.05</td>\n",
       "    </tr>\n",
       "    <tr>\n",
       "      <th>i</th>\n",
       "      <td>0.57</td>\n",
       "      <td>0.17</td>\n",
       "      <td>0.67</td>\n",
       "      <td>0.49</td>\n",
       "      <td>0.36</td>\n",
       "      <td>0.41</td>\n",
       "      <td>0.37</td>\n",
       "      <td>0.29</td>\n",
       "      <td>0.15</td>\n",
       "      <td>0.00</td>\n",
       "      <td>-0.06</td>\n",
       "      <td>0.07</td>\n",
       "    </tr>\n",
       "    <tr>\n",
       "      <th>z</th>\n",
       "      <td>0.52</td>\n",
       "      <td>0.12</td>\n",
       "      <td>0.62</td>\n",
       "      <td>0.55</td>\n",
       "      <td>0.44</td>\n",
       "      <td>0.48</td>\n",
       "      <td>0.46</td>\n",
       "      <td>0.38</td>\n",
       "      <td>-0.04</td>\n",
       "      <td>0.00</td>\n",
       "      <td>-0.04</td>\n",
       "      <td>0.06</td>\n",
       "    </tr>\n",
       "    <tr>\n",
       "      <th>y</th>\n",
       "      <td>0.10</td>\n",
       "      <td>-0.30</td>\n",
       "      <td>0.20</td>\n",
       "      <td>0.44</td>\n",
       "      <td>0.29</td>\n",
       "      <td>0.33</td>\n",
       "      <td>0.31</td>\n",
       "      <td>0.24</td>\n",
       "      <td>0.04</td>\n",
       "      <td>0.00</td>\n",
       "      <td>-0.03</td>\n",
       "      <td>0.05</td>\n",
       "    </tr>\n",
       "  </tbody>\n",
       "</table>\n",
       "</div>"
      ],
      "text/plain": [
       "      SRD spec  SRD min  SRD stretch  overview  airmass  throughput  2exp  \\\n",
       "band                                                                        \n",
       "u         0.51     0.01         0.61      0.40     0.17        0.47  0.24   \n",
       "g         0.56     0.16         0.66      0.37     0.20        0.29  0.21   \n",
       "r         0.70     0.30         0.80      0.35     0.21        0.26  0.21   \n",
       "i         0.57     0.17         0.67      0.49     0.36        0.41  0.37   \n",
       "z         0.52     0.12         0.62      0.55     0.44        0.48  0.46   \n",
       "y         0.10    -0.30         0.20      0.44     0.29        0.33  0.31   \n",
       "\n",
       "      seeing   sky  b. median  b. mean  b. teff mean  \n",
       "band                                                  \n",
       "u       0.15  0.07       0.00    -0.04          0.06  \n",
       "g       0.12  0.01       0.00    -0.04          0.06  \n",
       "r       0.13  0.02       0.00    -0.04          0.05  \n",
       "i       0.29  0.15       0.00    -0.06          0.07  \n",
       "z       0.38 -0.04       0.00    -0.04          0.06  \n",
       "y       0.24  0.04       0.00    -0.03          0.05  "
      ]
     },
     "execution_count": 53,
     "metadata": {},
     "output_type": "execute_result"
    }
   ],
   "source": [
    "m5.apply(lambda c: c - m5['b. median'], axis=0)"
   ]
  },
  {
   "cell_type": "code",
   "execution_count": 54,
   "metadata": {},
   "outputs": [
    {
     "data": {
      "text/html": [
       "<div>\n",
       "<style scoped>\n",
       "    .dataframe tbody tr th:only-of-type {\n",
       "        vertical-align: middle;\n",
       "    }\n",
       "\n",
       "    .dataframe tbody tr th {\n",
       "        vertical-align: top;\n",
       "    }\n",
       "\n",
       "    .dataframe thead th {\n",
       "        text-align: right;\n",
       "    }\n",
       "</style>\n",
       "<table border=\"1\" class=\"dataframe\">\n",
       "  <thead>\n",
       "    <tr style=\"text-align: right;\">\n",
       "      <th></th>\n",
       "      <th>SRD spec</th>\n",
       "      <th>SRD min</th>\n",
       "      <th>SRD stretch</th>\n",
       "      <th>overview</th>\n",
       "      <th>airmass</th>\n",
       "      <th>throughput</th>\n",
       "      <th>2exp</th>\n",
       "      <th>seeing</th>\n",
       "      <th>sky</th>\n",
       "      <th>b. median</th>\n",
       "      <th>b. mean</th>\n",
       "      <th>b. teff mean</th>\n",
       "    </tr>\n",
       "    <tr>\n",
       "      <th>band</th>\n",
       "      <th></th>\n",
       "      <th></th>\n",
       "      <th></th>\n",
       "      <th></th>\n",
       "      <th></th>\n",
       "      <th></th>\n",
       "      <th></th>\n",
       "      <th></th>\n",
       "      <th></th>\n",
       "      <th></th>\n",
       "      <th></th>\n",
       "      <th></th>\n",
       "    </tr>\n",
       "  </thead>\n",
       "  <tbody>\n",
       "    <tr>\n",
       "      <th>u</th>\n",
       "      <td>0.55</td>\n",
       "      <td>0.05</td>\n",
       "      <td>0.65</td>\n",
       "      <td>0.44</td>\n",
       "      <td>0.21</td>\n",
       "      <td>0.50</td>\n",
       "      <td>0.28</td>\n",
       "      <td>0.19</td>\n",
       "      <td>0.11</td>\n",
       "      <td>0.04</td>\n",
       "      <td>0.00</td>\n",
       "      <td>0.09</td>\n",
       "    </tr>\n",
       "    <tr>\n",
       "      <th>g</th>\n",
       "      <td>0.60</td>\n",
       "      <td>0.20</td>\n",
       "      <td>0.70</td>\n",
       "      <td>0.41</td>\n",
       "      <td>0.24</td>\n",
       "      <td>0.33</td>\n",
       "      <td>0.25</td>\n",
       "      <td>0.16</td>\n",
       "      <td>0.05</td>\n",
       "      <td>0.04</td>\n",
       "      <td>0.00</td>\n",
       "      <td>0.10</td>\n",
       "    </tr>\n",
       "    <tr>\n",
       "      <th>r</th>\n",
       "      <td>0.74</td>\n",
       "      <td>0.34</td>\n",
       "      <td>0.84</td>\n",
       "      <td>0.39</td>\n",
       "      <td>0.25</td>\n",
       "      <td>0.30</td>\n",
       "      <td>0.25</td>\n",
       "      <td>0.17</td>\n",
       "      <td>0.06</td>\n",
       "      <td>0.04</td>\n",
       "      <td>0.00</td>\n",
       "      <td>0.09</td>\n",
       "    </tr>\n",
       "    <tr>\n",
       "      <th>i</th>\n",
       "      <td>0.63</td>\n",
       "      <td>0.23</td>\n",
       "      <td>0.73</td>\n",
       "      <td>0.55</td>\n",
       "      <td>0.41</td>\n",
       "      <td>0.47</td>\n",
       "      <td>0.43</td>\n",
       "      <td>0.35</td>\n",
       "      <td>0.21</td>\n",
       "      <td>0.06</td>\n",
       "      <td>0.00</td>\n",
       "      <td>0.13</td>\n",
       "    </tr>\n",
       "    <tr>\n",
       "      <th>z</th>\n",
       "      <td>0.56</td>\n",
       "      <td>0.16</td>\n",
       "      <td>0.66</td>\n",
       "      <td>0.59</td>\n",
       "      <td>0.48</td>\n",
       "      <td>0.52</td>\n",
       "      <td>0.50</td>\n",
       "      <td>0.42</td>\n",
       "      <td>-0.01</td>\n",
       "      <td>0.04</td>\n",
       "      <td>0.00</td>\n",
       "      <td>0.10</td>\n",
       "    </tr>\n",
       "    <tr>\n",
       "      <th>y</th>\n",
       "      <td>0.13</td>\n",
       "      <td>-0.27</td>\n",
       "      <td>0.23</td>\n",
       "      <td>0.47</td>\n",
       "      <td>0.32</td>\n",
       "      <td>0.36</td>\n",
       "      <td>0.35</td>\n",
       "      <td>0.27</td>\n",
       "      <td>0.07</td>\n",
       "      <td>0.03</td>\n",
       "      <td>0.00</td>\n",
       "      <td>0.08</td>\n",
       "    </tr>\n",
       "  </tbody>\n",
       "</table>\n",
       "</div>"
      ],
      "text/plain": [
       "      SRD spec  SRD min  SRD stretch  overview  airmass  throughput  2exp  \\\n",
       "band                                                                        \n",
       "u         0.55     0.05         0.65      0.44     0.21        0.50  0.28   \n",
       "g         0.60     0.20         0.70      0.41     0.24        0.33  0.25   \n",
       "r         0.74     0.34         0.84      0.39     0.25        0.30  0.25   \n",
       "i         0.63     0.23         0.73      0.55     0.41        0.47  0.43   \n",
       "z         0.56     0.16         0.66      0.59     0.48        0.52  0.50   \n",
       "y         0.13    -0.27         0.23      0.47     0.32        0.36  0.35   \n",
       "\n",
       "      seeing   sky  b. median  b. mean  b. teff mean  \n",
       "band                                                  \n",
       "u       0.19  0.11       0.04     0.00          0.09  \n",
       "g       0.16  0.05       0.04     0.00          0.10  \n",
       "r       0.17  0.06       0.04     0.00          0.09  \n",
       "i       0.35  0.21       0.06     0.00          0.13  \n",
       "z       0.42 -0.01       0.04     0.00          0.10  \n",
       "y       0.27  0.07       0.03     0.00          0.08  "
      ]
     },
     "execution_count": 54,
     "metadata": {},
     "output_type": "execute_result"
    }
   ],
   "source": [
    "m5.apply(lambda c: c - m5['b. mean'], axis=0)"
   ]
  },
  {
   "cell_type": "markdown",
   "metadata": {},
   "source": [
    "## Find t_eff stats"
   ]
  },
  {
   "cell_type": "code",
   "execution_count": 55,
   "metadata": {},
   "outputs": [],
   "source": [
    "def compute_teff_stats(*args, **kwargs):\n",
    "    teff_stats = compute_teff(*args, **kwargs).groupby('band').describe().loc[bands.index].T\n",
    "    return teff_stats"
   ]
  },
  {
   "cell_type": "code",
   "execution_count": 56,
   "metadata": {},
   "outputs": [
    {
     "data": {
      "text/html": [
       "<div>\n",
       "<style scoped>\n",
       "    .dataframe tbody tr th:only-of-type {\n",
       "        vertical-align: middle;\n",
       "    }\n",
       "\n",
       "    .dataframe tbody tr th {\n",
       "        vertical-align: top;\n",
       "    }\n",
       "\n",
       "    .dataframe thead th {\n",
       "        text-align: right;\n",
       "    }\n",
       "</style>\n",
       "<table border=\"1\" class=\"dataframe\">\n",
       "  <thead>\n",
       "    <tr style=\"text-align: right;\">\n",
       "      <th></th>\n",
       "      <th>SRD spec</th>\n",
       "      <th>SRD min</th>\n",
       "      <th>SRD stretch</th>\n",
       "      <th>overview</th>\n",
       "      <th>airmass</th>\n",
       "      <th>throughput</th>\n",
       "      <th>2exp</th>\n",
       "      <th>seeing</th>\n",
       "      <th>sky</th>\n",
       "      <th>b. median</th>\n",
       "      <th>b. mean</th>\n",
       "      <th>b. teff mean</th>\n",
       "    </tr>\n",
       "    <tr>\n",
       "      <th>band</th>\n",
       "      <th></th>\n",
       "      <th></th>\n",
       "      <th></th>\n",
       "      <th></th>\n",
       "      <th></th>\n",
       "      <th></th>\n",
       "      <th></th>\n",
       "      <th></th>\n",
       "      <th></th>\n",
       "      <th></th>\n",
       "      <th></th>\n",
       "      <th></th>\n",
       "    </tr>\n",
       "  </thead>\n",
       "  <tbody>\n",
       "    <tr>\n",
       "      <th>u</th>\n",
       "      <td>0.43</td>\n",
       "      <td>1.09</td>\n",
       "      <td>0.36</td>\n",
       "      <td>0.53</td>\n",
       "      <td>0.81</td>\n",
       "      <td>0.47</td>\n",
       "      <td>0.71</td>\n",
       "      <td>0.84</td>\n",
       "      <td>0.97</td>\n",
       "      <td>1.11</td>\n",
       "      <td>1.19</td>\n",
       "      <td>1.00</td>\n",
       "    </tr>\n",
       "    <tr>\n",
       "      <th>g</th>\n",
       "      <td>0.40</td>\n",
       "      <td>0.83</td>\n",
       "      <td>0.33</td>\n",
       "      <td>0.56</td>\n",
       "      <td>0.76</td>\n",
       "      <td>0.65</td>\n",
       "      <td>0.76</td>\n",
       "      <td>0.89</td>\n",
       "      <td>1.09</td>\n",
       "      <td>1.11</td>\n",
       "      <td>1.19</td>\n",
       "      <td>1.00</td>\n",
       "    </tr>\n",
       "    <tr>\n",
       "      <th>r</th>\n",
       "      <td>0.30</td>\n",
       "      <td>0.64</td>\n",
       "      <td>0.25</td>\n",
       "      <td>0.57</td>\n",
       "      <td>0.75</td>\n",
       "      <td>0.68</td>\n",
       "      <td>0.74</td>\n",
       "      <td>0.86</td>\n",
       "      <td>1.05</td>\n",
       "      <td>1.10</td>\n",
       "      <td>1.18</td>\n",
       "      <td>1.00</td>\n",
       "    </tr>\n",
       "    <tr>\n",
       "      <th>i</th>\n",
       "      <td>0.40</td>\n",
       "      <td>0.83</td>\n",
       "      <td>0.33</td>\n",
       "      <td>0.46</td>\n",
       "      <td>0.59</td>\n",
       "      <td>0.54</td>\n",
       "      <td>0.57</td>\n",
       "      <td>0.66</td>\n",
       "      <td>0.86</td>\n",
       "      <td>1.14</td>\n",
       "      <td>1.27</td>\n",
       "      <td>1.00</td>\n",
       "    </tr>\n",
       "    <tr>\n",
       "      <th>z</th>\n",
       "      <td>0.43</td>\n",
       "      <td>0.90</td>\n",
       "      <td>0.36</td>\n",
       "      <td>0.41</td>\n",
       "      <td>0.50</td>\n",
       "      <td>0.46</td>\n",
       "      <td>0.48</td>\n",
       "      <td>0.56</td>\n",
       "      <td>1.22</td>\n",
       "      <td>1.12</td>\n",
       "      <td>1.20</td>\n",
       "      <td>1.00</td>\n",
       "    </tr>\n",
       "    <tr>\n",
       "      <th>y</th>\n",
       "      <td>0.92</td>\n",
       "      <td>1.92</td>\n",
       "      <td>0.77</td>\n",
       "      <td>0.49</td>\n",
       "      <td>0.64</td>\n",
       "      <td>0.60</td>\n",
       "      <td>0.62</td>\n",
       "      <td>0.71</td>\n",
       "      <td>1.02</td>\n",
       "      <td>1.10</td>\n",
       "      <td>1.17</td>\n",
       "      <td>1.00</td>\n",
       "    </tr>\n",
       "  </tbody>\n",
       "</table>\n",
       "</div>"
      ],
      "text/plain": [
       "      SRD spec  SRD min  SRD stretch  overview  airmass  throughput  2exp  \\\n",
       "band                                                                        \n",
       "u         0.43     1.09         0.36      0.53     0.81        0.47  0.71   \n",
       "g         0.40     0.83         0.33      0.56     0.76        0.65  0.76   \n",
       "r         0.30     0.64         0.25      0.57     0.75        0.68  0.74   \n",
       "i         0.40     0.83         0.33      0.46     0.59        0.54  0.57   \n",
       "z         0.43     0.90         0.36      0.41     0.50        0.46  0.48   \n",
       "y         0.92     1.92         0.77      0.49     0.64        0.60  0.62   \n",
       "\n",
       "      seeing  sky  b. median  b. mean  b. teff mean  \n",
       "band                                                 \n",
       "u       0.84 0.97       1.11     1.19          1.00  \n",
       "g       0.89 1.09       1.11     1.19          1.00  \n",
       "r       0.86 1.05       1.10     1.18          1.00  \n",
       "i       0.66 0.86       1.14     1.27          1.00  \n",
       "z       0.56 1.22       1.12     1.20          1.00  \n",
       "y       0.71 1.02       1.10     1.17          1.00  "
      ]
     },
     "execution_count": 56,
     "metadata": {},
     "output_type": "execute_result"
    }
   ],
   "source": [
    "m5.apply(lambda r: compute_teff_stats(r).loc['mean'])"
   ]
  },
  {
   "cell_type": "code",
   "execution_count": 57,
   "metadata": {},
   "outputs": [
    {
     "data": {
      "text/html": [
       "<div>\n",
       "<style scoped>\n",
       "    .dataframe tbody tr th:only-of-type {\n",
       "        vertical-align: middle;\n",
       "    }\n",
       "\n",
       "    .dataframe tbody tr th {\n",
       "        vertical-align: top;\n",
       "    }\n",
       "\n",
       "    .dataframe thead th {\n",
       "        text-align: right;\n",
       "    }\n",
       "</style>\n",
       "<table border=\"1\" class=\"dataframe\">\n",
       "  <thead>\n",
       "    <tr style=\"text-align: right;\">\n",
       "      <th></th>\n",
       "      <th>SRD spec</th>\n",
       "      <th>SRD min</th>\n",
       "      <th>SRD stretch</th>\n",
       "      <th>overview</th>\n",
       "      <th>airmass</th>\n",
       "      <th>throughput</th>\n",
       "      <th>2exp</th>\n",
       "      <th>seeing</th>\n",
       "      <th>sky</th>\n",
       "      <th>b. median</th>\n",
       "      <th>b. mean</th>\n",
       "      <th>b. teff mean</th>\n",
       "    </tr>\n",
       "    <tr>\n",
       "      <th>band</th>\n",
       "      <th></th>\n",
       "      <th></th>\n",
       "      <th></th>\n",
       "      <th></th>\n",
       "      <th></th>\n",
       "      <th></th>\n",
       "      <th></th>\n",
       "      <th></th>\n",
       "      <th></th>\n",
       "      <th></th>\n",
       "      <th></th>\n",
       "      <th></th>\n",
       "    </tr>\n",
       "  </thead>\n",
       "  <tbody>\n",
       "    <tr>\n",
       "      <th>u</th>\n",
       "      <td>0.39</td>\n",
       "      <td>0.98</td>\n",
       "      <td>0.32</td>\n",
       "      <td>0.48</td>\n",
       "      <td>0.72</td>\n",
       "      <td>0.42</td>\n",
       "      <td>0.64</td>\n",
       "      <td>0.75</td>\n",
       "      <td>0.87</td>\n",
       "      <td>1.00</td>\n",
       "      <td>1.07</td>\n",
       "      <td>0.90</td>\n",
       "    </tr>\n",
       "    <tr>\n",
       "      <th>g</th>\n",
       "      <td>0.36</td>\n",
       "      <td>0.75</td>\n",
       "      <td>0.30</td>\n",
       "      <td>0.50</td>\n",
       "      <td>0.69</td>\n",
       "      <td>0.59</td>\n",
       "      <td>0.68</td>\n",
       "      <td>0.80</td>\n",
       "      <td>0.98</td>\n",
       "      <td>1.00</td>\n",
       "      <td>1.07</td>\n",
       "      <td>0.90</td>\n",
       "    </tr>\n",
       "    <tr>\n",
       "      <th>r</th>\n",
       "      <td>0.28</td>\n",
       "      <td>0.58</td>\n",
       "      <td>0.23</td>\n",
       "      <td>0.52</td>\n",
       "      <td>0.68</td>\n",
       "      <td>0.62</td>\n",
       "      <td>0.68</td>\n",
       "      <td>0.79</td>\n",
       "      <td>0.96</td>\n",
       "      <td>1.00</td>\n",
       "      <td>1.07</td>\n",
       "      <td>0.91</td>\n",
       "    </tr>\n",
       "    <tr>\n",
       "      <th>i</th>\n",
       "      <td>0.35</td>\n",
       "      <td>0.73</td>\n",
       "      <td>0.29</td>\n",
       "      <td>0.41</td>\n",
       "      <td>0.52</td>\n",
       "      <td>0.47</td>\n",
       "      <td>0.50</td>\n",
       "      <td>0.58</td>\n",
       "      <td>0.75</td>\n",
       "      <td>1.00</td>\n",
       "      <td>1.11</td>\n",
       "      <td>0.88</td>\n",
       "    </tr>\n",
       "    <tr>\n",
       "      <th>z</th>\n",
       "      <td>0.38</td>\n",
       "      <td>0.80</td>\n",
       "      <td>0.32</td>\n",
       "      <td>0.36</td>\n",
       "      <td>0.45</td>\n",
       "      <td>0.41</td>\n",
       "      <td>0.43</td>\n",
       "      <td>0.50</td>\n",
       "      <td>1.08</td>\n",
       "      <td>1.00</td>\n",
       "      <td>1.07</td>\n",
       "      <td>0.89</td>\n",
       "    </tr>\n",
       "    <tr>\n",
       "      <th>y</th>\n",
       "      <td>0.84</td>\n",
       "      <td>1.75</td>\n",
       "      <td>0.70</td>\n",
       "      <td>0.44</td>\n",
       "      <td>0.58</td>\n",
       "      <td>0.54</td>\n",
       "      <td>0.56</td>\n",
       "      <td>0.65</td>\n",
       "      <td>0.93</td>\n",
       "      <td>1.00</td>\n",
       "      <td>1.06</td>\n",
       "      <td>0.91</td>\n",
       "    </tr>\n",
       "  </tbody>\n",
       "</table>\n",
       "</div>"
      ],
      "text/plain": [
       "      SRD spec  SRD min  SRD stretch  overview  airmass  throughput  2exp  \\\n",
       "band                                                                        \n",
       "u         0.39     0.98         0.32      0.48     0.72        0.42  0.64   \n",
       "g         0.36     0.75         0.30      0.50     0.69        0.59  0.68   \n",
       "r         0.28     0.58         0.23      0.52     0.68        0.62  0.68   \n",
       "i         0.35     0.73         0.29      0.41     0.52        0.47  0.50   \n",
       "z         0.38     0.80         0.32      0.36     0.45        0.41  0.43   \n",
       "y         0.84     1.75         0.70      0.44     0.58        0.54  0.56   \n",
       "\n",
       "      seeing  sky  b. median  b. mean  b. teff mean  \n",
       "band                                                 \n",
       "u       0.75 0.87       1.00     1.07          0.90  \n",
       "g       0.80 0.98       1.00     1.07          0.90  \n",
       "r       0.79 0.96       1.00     1.07          0.91  \n",
       "i       0.58 0.75       1.00     1.11          0.88  \n",
       "z       0.50 1.08       1.00     1.07          0.89  \n",
       "y       0.65 0.93       1.00     1.06          0.91  "
      ]
     },
     "execution_count": 57,
     "metadata": {},
     "output_type": "execute_result"
    }
   ],
   "source": [
    "m5.apply(lambda r: compute_teff_stats(r).loc['50%'])"
   ]
  },
  {
   "cell_type": "markdown",
   "metadata": {},
   "source": [
    "## Progression table"
   ]
  },
  {
   "cell_type": "code",
   "execution_count": 58,
   "metadata": {},
   "outputs": [
    {
     "data": {
      "text/html": [
       "<div>\n",
       "<style scoped>\n",
       "    .dataframe tbody tr th:only-of-type {\n",
       "        vertical-align: middle;\n",
       "    }\n",
       "\n",
       "    .dataframe tbody tr th {\n",
       "        vertical-align: top;\n",
       "    }\n",
       "\n",
       "    .dataframe thead th {\n",
       "        text-align: right;\n",
       "    }\n",
       "</style>\n",
       "<table border=\"1\" class=\"dataframe\">\n",
       "  <thead>\n",
       "    <tr style=\"text-align: right;\">\n",
       "      <th></th>\n",
       "      <th>SRD spec</th>\n",
       "      <th>SRD min</th>\n",
       "      <th>SRD stretch</th>\n",
       "      <th>overview</th>\n",
       "      <th>airmass</th>\n",
       "      <th>throughput</th>\n",
       "      <th>2exp</th>\n",
       "      <th>seeing</th>\n",
       "      <th>sky</th>\n",
       "      <th>b. median</th>\n",
       "      <th>b. mean</th>\n",
       "      <th>b. teff mean</th>\n",
       "    </tr>\n",
       "    <tr>\n",
       "      <th>band</th>\n",
       "      <th></th>\n",
       "      <th></th>\n",
       "      <th></th>\n",
       "      <th></th>\n",
       "      <th></th>\n",
       "      <th></th>\n",
       "      <th></th>\n",
       "      <th></th>\n",
       "      <th></th>\n",
       "      <th></th>\n",
       "      <th></th>\n",
       "      <th></th>\n",
       "    </tr>\n",
       "  </thead>\n",
       "  <tbody>\n",
       "    <tr>\n",
       "      <th>u</th>\n",
       "      <td>23.90</td>\n",
       "      <td>23.40</td>\n",
       "      <td>24.00</td>\n",
       "      <td>23.79</td>\n",
       "      <td>23.56</td>\n",
       "      <td>23.85</td>\n",
       "      <td>23.63</td>\n",
       "      <td>23.54</td>\n",
       "      <td>23.46</td>\n",
       "      <td>23.39</td>\n",
       "      <td>23.35</td>\n",
       "      <td>23.45</td>\n",
       "    </tr>\n",
       "    <tr>\n",
       "      <th>g</th>\n",
       "      <td>25.00</td>\n",
       "      <td>24.60</td>\n",
       "      <td>25.10</td>\n",
       "      <td>24.81</td>\n",
       "      <td>24.65</td>\n",
       "      <td>24.73</td>\n",
       "      <td>24.65</td>\n",
       "      <td>24.56</td>\n",
       "      <td>24.45</td>\n",
       "      <td>24.44</td>\n",
       "      <td>24.40</td>\n",
       "      <td>24.50</td>\n",
       "    </tr>\n",
       "    <tr>\n",
       "      <th>r</th>\n",
       "      <td>24.70</td>\n",
       "      <td>24.30</td>\n",
       "      <td>24.80</td>\n",
       "      <td>24.36</td>\n",
       "      <td>24.21</td>\n",
       "      <td>24.26</td>\n",
       "      <td>24.22</td>\n",
       "      <td>24.13</td>\n",
       "      <td>24.03</td>\n",
       "      <td>24.00</td>\n",
       "      <td>23.96</td>\n",
       "      <td>24.05</td>\n",
       "    </tr>\n",
       "    <tr>\n",
       "      <th>i</th>\n",
       "      <td>24.00</td>\n",
       "      <td>23.60</td>\n",
       "      <td>24.10</td>\n",
       "      <td>23.92</td>\n",
       "      <td>23.78</td>\n",
       "      <td>23.83</td>\n",
       "      <td>23.80</td>\n",
       "      <td>23.72</td>\n",
       "      <td>23.58</td>\n",
       "      <td>23.43</td>\n",
       "      <td>23.37</td>\n",
       "      <td>23.50</td>\n",
       "    </tr>\n",
       "    <tr>\n",
       "      <th>z</th>\n",
       "      <td>23.30</td>\n",
       "      <td>22.90</td>\n",
       "      <td>23.40</td>\n",
       "      <td>23.33</td>\n",
       "      <td>23.22</td>\n",
       "      <td>23.26</td>\n",
       "      <td>23.24</td>\n",
       "      <td>23.16</td>\n",
       "      <td>22.74</td>\n",
       "      <td>22.78</td>\n",
       "      <td>22.74</td>\n",
       "      <td>22.84</td>\n",
       "    </tr>\n",
       "    <tr>\n",
       "      <th>y</th>\n",
       "      <td>22.10</td>\n",
       "      <td>21.70</td>\n",
       "      <td>22.20</td>\n",
       "      <td>22.45</td>\n",
       "      <td>22.30</td>\n",
       "      <td>22.34</td>\n",
       "      <td>22.32</td>\n",
       "      <td>22.24</td>\n",
       "      <td>22.04</td>\n",
       "      <td>22.00</td>\n",
       "      <td>21.97</td>\n",
       "      <td>22.06</td>\n",
       "    </tr>\n",
       "  </tbody>\n",
       "</table>\n",
       "</div>"
      ],
      "text/plain": [
       "      SRD spec  SRD min  SRD stretch  overview  airmass  throughput  2exp  \\\n",
       "band                                                                        \n",
       "u        23.90    23.40        24.00     23.79    23.56       23.85 23.63   \n",
       "g        25.00    24.60        25.10     24.81    24.65       24.73 24.65   \n",
       "r        24.70    24.30        24.80     24.36    24.21       24.26 24.22   \n",
       "i        24.00    23.60        24.10     23.92    23.78       23.83 23.80   \n",
       "z        23.30    22.90        23.40     23.33    23.22       23.26 23.24   \n",
       "y        22.10    21.70        22.20     22.45    22.30       22.34 22.32   \n",
       "\n",
       "      seeing   sky  b. median  b. mean  b. teff mean  \n",
       "band                                                  \n",
       "u      23.54 23.46      23.39    23.35         23.45  \n",
       "g      24.56 24.45      24.44    24.40         24.50  \n",
       "r      24.13 24.03      24.00    23.96         24.05  \n",
       "i      23.72 23.58      23.43    23.37         23.50  \n",
       "z      23.16 22.74      22.78    22.74         22.84  \n",
       "y      22.24 22.04      22.00    21.97         22.06  "
      ]
     },
     "execution_count": 58,
     "metadata": {},
     "output_type": "execute_result"
    }
   ],
   "source": [
    "m5"
   ]
  },
  {
   "cell_type": "code",
   "execution_count": 59,
   "metadata": {},
   "outputs": [
    {
     "name": "stdout",
     "output_type": "stream",
     "text": [
      "      overview  throughput  seeing   sky   X_k  X_seeing     X  moon\n",
      "band                                                                \n",
      "u        23.79       23.86   23.76 23.71 23.61     23.49 23.46 23.46\n",
      "g        24.81       24.82   24.73 24.67 24.63     24.51 24.45 24.45\n",
      "r        24.36       24.36   24.28 24.24 24.22     24.10 24.03 24.03\n",
      "i        23.92       23.93   23.86 23.82 23.80     23.68 23.60 23.58\n",
      "z        23.33       23.35   23.29 23.21 23.20     23.08 23.00 22.74\n",
      "y        22.45       22.47   22.39 22.40 22.37     22.25 22.16 22.04\n"
     ]
    }
   ],
   "source": [
    "m5prog = m5[['overview']].copy()\n",
    "\n",
    "m5prog['throughput'] = overview_table2.reset_index().apply(\n",
    "        lambda r: m5_flat_sed(r['band'], r['m_sky'], overview_table2['theta_eff'][r['band']], expTime=15, airmass=1, nexp=2), axis=1).values\n",
    "m5prog['seeing'] = overview_table2.reset_index().apply(\n",
    "        lambda r: m5_flat_sed(r['band'], r['m_sky'],\n",
    "                              pd.Series(seeing_model(seeing500, 1.0)['fwhmEff'], index=bands.index)[r['band']],\n",
    "                              expTime=15, airmass=1, nexp=2), axis=1).values\n",
    "m5prog['sky'] = overview_table2.reset_index().apply(\n",
    "        lambda r: m5_flat_sed(r['band'],\n",
    "                              dark_sky_mags[r['band']].median(),\n",
    "                              pd.Series(seeing_model(seeing500, 1.0)['fwhmEff'], index=bands.index)[r['band']],\n",
    "                              expTime=15, airmass=1, nexp=2), axis=1).values\n",
    "m5prog['X_k'] = overview_table2.reset_index().apply(\n",
    "        lambda r: m5_flat_sed(r['band'],\n",
    "                              dark_sky_mags[r['band']].median(),\n",
    "                              pd.Series(seeing_model(seeing500, 1.0)['fwhmEff'], index=bands.index)[r['band']],\n",
    "                              expTime=15, airmass=1.2, nexp=2), axis=1).values\n",
    "m5prog['X_seeing'] = overview_table2.reset_index().apply(\n",
    "        lambda r: m5_flat_sed(r['band'],\n",
    "                              dark_sky_mags[r['band']].median(),\n",
    "                              pd.Series(seeing_model(seeing500, 1.2)['fwhmEff'], index=bands.index)[r['band']],\n",
    "                              expTime=15, airmass=1.2, nexp=2), axis=1).values\n",
    "m5prog['X'] = overview_table2.reset_index().apply(\n",
    "        lambda r: m5_flat_sed(r['band'],\n",
    "                              sky_x12_mag_stats.loc['75%', r['band']],\n",
    "                              pd.Series(seeing_model(seeing500, 1.2)['fwhmEff'], index=bands.index)[r['band']],\n",
    "                              expTime=15, airmass=1.2, nexp=2), axis=1).values\n",
    "m5prog['moon'] = overview_table2.reset_index().apply(\n",
    "        lambda r: m5_flat_sed(r['band'],\n",
    "                              typical_m_sky[r['band']],\n",
    "                              pd.Series(seeing_model(seeing500, 1.2)['fwhmEff'], index=bands.index)[r['band']],\n",
    "                              expTime=15, airmass=1.2, nexp=2), axis=1).values\n",
    "print(m5prog)"
   ]
  },
  {
   "cell_type": "code",
   "execution_count": 60,
   "metadata": {},
   "outputs": [
    {
     "name": "stdout",
     "output_type": "stream",
     "text": [
      "      sim median - model  sim mean - model\n",
      "band                                      \n",
      "u                  -0.07             -0.11\n",
      "g                  -0.01             -0.05\n",
      "r                  -0.02             -0.06\n",
      "i                  -0.15             -0.21\n",
      "z                   0.04              0.01\n",
      "y                  -0.04             -0.07\n"
     ]
    }
   ],
   "source": [
    "print(m5.loc[:, ['b. median', 'b. mean']].apply(lambda x: x - m5prog.moon).rename(columns={'b. median': 'sim median - model', 'b. mean': 'sim mean - model'}))"
   ]
  },
  {
   "cell_type": "code",
   "execution_count": 61,
   "metadata": {},
   "outputs": [
    {
     "data": {
      "image/png": "[encoded data removed]",
      "text/plain": [
       "<Figure size 1152x864 with 6 Axes>"
      ]
     },
     "metadata": {},
     "output_type": "display_data"
    }
   ],
   "source": [
    "m5p_imp = m5prog.T\n",
    "m5p_imp.index.rename('step', inplace=True)\n",
    "m5p_imp.reset_index(inplace=True)\n",
    "fig, axes = plt.subplots(2, 3, figsize=(16, 12))\n",
    "for band, ax in zip(bands.band, axes.flatten()):\n",
    "    ax.plot(m5p_imp.index, m5p_imp[band], marker='o', linestyle=' ', color='darkblue')\n",
    "    ax.plot(m5p_imp.index, m5p_imp[band], alpha=0.2, color='darkblue')\n",
    "    ax.set_xticks(np.arange(len(m5p_imp['step'])))\n",
    "    ax.set_xticklabels(m5p_imp['step'], rotation=20)\n",
    "    ax.set_title(band)\n",
    "    ax.hlines(m5.loc[band, ['SRD spec', 'SRD min', 'SRD stretch']], xmin=0, xmax=3, linestyle=':', color='k')\n",
    "    ax.text(0, m5.loc[band, 'SRD spec'], 'SRD spec', horizontalalignment='left', verticalalignment='top', color='k')\n",
    "    ax.text(0, m5.loc[band, 'SRD min'], 'SRD min', horizontalalignment='left', verticalalignment='bottom', color='r')\n",
    "    ax.text(0, m5.loc[band, 'SRD stretch'], 'SRD stretch', horizontalalignment='left', verticalalignment='top', color='g')\n",
    "    ax.axhline(m5.loc[band, 'b. median'], linestyle='--', color='b')\n",
    "    ax.text(0, m5.loc[band, 'b. median'], 'baseline 1.7 sim median', horizontalalignment='left', verticalalignment='top', color='b')\n",
    "    ax.axhline(m5.loc[band, 'b. teff mean'], linestyle='--', color='k')\n",
    "    ax.text(0, m5.loc[band, 'b. teff mean'], 'baseline 1.7 sim t_eff mean', horizontalalignment='left', verticalalignment='top', color='k')"
   ]
  },
  {
   "cell_type": "markdown",
   "metadata": {},
   "source": [
    "## Using median airmass, seeing, sky brightness of baseline visits"
   ]
  },
  {
   "cell_type": "code",
   "execution_count": 62,
   "metadata": {},
   "outputs": [
    {
     "name": "stdout",
     "output_type": "stream",
     "text": [
      "step  overview  throughput  seeing   sky  sim_X  sim_seeing  sim_sky\n",
      "band                                                                \n",
      "u        23.79       23.86   23.76 23.71  23.65       23.52    23.51\n",
      "g        24.81       24.82   24.73 24.67  24.64       24.51    24.48\n",
      "r        24.36       24.36   24.28 24.24  24.23       24.10    24.04\n",
      "i        23.92       23.93   23.86 23.82  23.81       23.67    23.54\n",
      "z        23.33       23.35   23.29 23.21  23.21       23.07    22.83\n",
      "y        22.45       22.47   22.39 22.40  22.38       22.24    22.04\n"
     ]
    }
   ],
   "source": [
    "m5visits = m5prog[['overview', 'throughput', 'seeing', 'sky']].copy()\n",
    "m5visits['sim_X'] = overview_table2.reset_index().apply(\n",
    "        lambda r: m5_flat_sed(r['band'],\n",
    "                              dark_sky_mags[r['band']].median(),\n",
    "                              pd.Series(seeing_model(seeing500, 1.0)['fwhmEff'], index=bands.index)[r['band']],\n",
    "                              expTime=15, airmass=visits.loc[visits['filter']==r['band'],'airmass'].median(), nexp=2), axis=1).values\n",
    "m5visits['sim_seeing'] = overview_table2.reset_index().apply(\n",
    "        lambda r: m5_flat_sed(r['band'],\n",
    "                              dark_sky_mags[r['band']].median(),\n",
    "                              visits.loc[visits['filter']==r['band'], 'seeingFwhmEff'].median(),\n",
    "                              expTime=15, airmass=visits.loc[visits['filter']==r['band'], 'airmass'].median(), nexp=2), axis=1).values\n",
    "m5visits['sim_sky'] = overview_table2.reset_index().apply(\n",
    "        lambda r: m5_flat_sed(r['band'],\n",
    "                              visits.loc[visits['filter']==r['band'], 'skyBrightness'].median(),\n",
    "                              visits.loc[visits['filter']==r['band'], 'seeingFwhmEff'].median(),\n",
    "                              expTime=15, airmass=visits.loc[visits['filter']==r['band'],'airmass'].median(), nexp=2), axis=1).values\n",
    "print(m5visits)"
   ]
  },
  {
   "cell_type": "code",
   "execution_count": 63,
   "metadata": {},
   "outputs": [
    {
     "name": "stdout",
     "output_type": "stream",
     "text": [
      "      sim median - model  sim mean - model\n",
      "band                                      \n",
      "u                  -0.12             -0.16\n",
      "g                  -0.03             -0.07\n",
      "r                  -0.04             -0.08\n",
      "i                  -0.12             -0.17\n",
      "z                  -0.05             -0.08\n",
      "y                  -0.04             -0.07\n"
     ]
    }
   ],
   "source": [
    "print(m5.loc[:, ['b. median', 'b. mean']].apply(lambda x: x - m5visits.sim_sky).rename(columns={'b. median': 'sim median - model', 'b. mean': 'sim mean - model'}))"
   ]
  },
  {
   "cell_type": "code",
   "execution_count": 64,
   "metadata": {},
   "outputs": [
    {
     "data": {
      "image/png": "[encoded data removed]",
      "text/plain": [
       "<Figure size 1152x864 with 6 Axes>"
      ]
     },
     "metadata": {},
     "output_type": "display_data"
    }
   ],
   "source": [
    "m5p_imp = m5visits.T\n",
    "m5p_imp.index.rename('step', inplace=True)\n",
    "m5p_imp.reset_index(inplace=True)\n",
    "fig, axes = plt.subplots(2, 3, figsize=(16, 12))\n",
    "for band, ax in zip(bands.band, axes.flatten()):\n",
    "    ax.plot(m5p_imp.index, m5p_imp[band], marker='o', linestyle=' ', color='darkblue')\n",
    "    ax.plot(m5p_imp.index, m5p_imp[band], alpha=0.2, color='darkblue')\n",
    "    ax.set_xticks(np.arange(len(m5p_imp['step'])))\n",
    "    ax.set_xticklabels(m5p_imp['step'], rotation=20)\n",
    "    ax.set_title(band)\n",
    "    ax.hlines(m5.loc[band, ['SRD spec', 'SRD min', 'SRD stretch']], xmin=0, xmax=3, linestyle=':', color='k')\n",
    "    ax.text(0, m5.loc[band, 'SRD spec'], 'SRD spec', horizontalalignment='left', verticalalignment='top', color='k')\n",
    "    ax.text(0, m5.loc[band, 'SRD min'], 'SRD min', horizontalalignment='left', verticalalignment='bottom', color='r')\n",
    "    ax.text(0, m5.loc[band, 'SRD stretch'], 'SRD stretch', horizontalalignment='left', verticalalignment='top', color='g')\n",
    "    ax.axhline(m5.loc[band, 'b. median'], linestyle='--', color='b')\n",
    "    ax.text(0, m5.loc[band, 'b. median'], 'baseline 1.7 sim median', horizontalalignment='left', verticalalignment='top', color='b')\n",
    "    ax.axhline(m5.loc[band, 'b. teff mean'], linestyle='--', color='k')\n",
    "    ax.text(0, m5.loc[band, 'b. teff mean'], 'baseline 1.7 sim t_eff mean', horizontalalignment='left', verticalalignment='top', color='k')"
   ]
  },
  {
   "cell_type": "markdown",
   "metadata": {},
   "source": [
    "## Sky brightness and moon"
   ]
  },
  {
   "cell_type": "code",
   "execution_count": 65,
   "metadata": {},
   "outputs": [
    {
     "data": {
      "image/png": "[encoded data removed]",
      "text/plain": [
       "<Figure size 936x576 with 6 Axes>"
      ]
     },
     "metadata": {},
     "output_type": "display_data"
    }
   ],
   "source": [
    "fig, axes = plt.subplots(3, 2, figsize=(13, 8))\n",
    "for band, ax in zip(bands.band, axes.flatten()):\n",
    "    visits.query(f\"band == '{band}'\").hist('skyBrightness', bins=100, ax=ax)\n",
    "    text_trans = mpl.transforms.blended_transform_factory(ax.transData, ax.transAxes)\n",
    "    \n",
    "    ax.axvline(sky_x12_mag_stats.loc['mean', band], color='darkblue')\n",
    "    ax.text(sky_x12_mag_stats.loc['mean', band], 1, 'mean at X=1.2', transform=text_trans, horizontalalignment='right', verticalalignment='top', rotation=90, color='darkblue')\n",
    "\n",
    "    ax.axvline(sky_x12_mag_stats.loc['min', band], color='black', linestyle=\":\")\n",
    "    ax.text(sky_x12_mag_stats.loc['min', band], 1, 'min at X=1.2', transform=text_trans, horizontalalignment='right', verticalalignment='top', rotation=90, color='black')\n",
    "    ax.axvline(sky_x12_mag_stats.loc['max', band], color='black', linestyle=\":\")\n",
    "    \n",
    "    ax.axvline(sky_x12_mag_stats.loc['25%', band], color='black', linestyle='--')\n",
    "    ax.text(sky_x12_mag_stats.loc['25%', band], 1, '25% at X=1.2', transform=text_trans, horizontalalignment='right', verticalalignment='top', rotation=90, color='black')\n",
    "    ax.axvline(sky_x12_mag_stats.loc['75%', band], color='black', linestyle='--')\n",
    "\n",
    "    ax.axvline(sky_x12_mag_stats.loc['50%', band], color='black')\n",
    "    ax.text(sky_x12_mag_stats.loc['50%', band], 1, 'median at X=1.2', transform=text_trans, horizontalalignment='right', verticalalignment='top', rotation=90, color='black')\n",
    "\n",
    "    ax.set_title(band)"
   ]
  },
  {
   "cell_type": "code",
   "execution_count": 66,
   "metadata": {},
   "outputs": [
    {
     "data": {
      "text/html": [
       "<div>\n",
       "<style scoped>\n",
       "    .dataframe tbody tr th:only-of-type {\n",
       "        vertical-align: middle;\n",
       "    }\n",
       "\n",
       "    .dataframe tbody tr th {\n",
       "        vertical-align: top;\n",
       "    }\n",
       "\n",
       "    .dataframe thead th {\n",
       "        text-align: right;\n",
       "    }\n",
       "</style>\n",
       "<table border=\"1\" class=\"dataframe\">\n",
       "  <thead>\n",
       "    <tr style=\"text-align: right;\">\n",
       "      <th></th>\n",
       "      <th>u</th>\n",
       "      <th>g</th>\n",
       "      <th>r</th>\n",
       "      <th>i</th>\n",
       "      <th>z</th>\n",
       "      <th>y</th>\n",
       "      <th>mjd</th>\n",
       "    </tr>\n",
       "  </thead>\n",
       "  <tbody>\n",
       "    <tr>\n",
       "      <th>count</th>\n",
       "      <td>146227.00</td>\n",
       "      <td>146227.00</td>\n",
       "      <td>146227.00</td>\n",
       "      <td>146227.00</td>\n",
       "      <td>146227.00</td>\n",
       "      <td>146227.00</td>\n",
       "      <td>148164.00</td>\n",
       "    </tr>\n",
       "    <tr>\n",
       "      <th>mean</th>\n",
       "      <td>21.32</td>\n",
       "      <td>20.68</td>\n",
       "      <td>20.05</td>\n",
       "      <td>19.61</td>\n",
       "      <td>18.92</td>\n",
       "      <td>18.28</td>\n",
       "      <td>61691.99</td>\n",
       "    </tr>\n",
       "    <tr>\n",
       "      <th>std</th>\n",
       "      <td>1.57</td>\n",
       "      <td>1.62</td>\n",
       "      <td>1.20</td>\n",
       "      <td>0.84</td>\n",
       "      <td>0.48</td>\n",
       "      <td>0.26</td>\n",
       "      <td>1054.35</td>\n",
       "    </tr>\n",
       "    <tr>\n",
       "      <th>min</th>\n",
       "      <td>17.75</td>\n",
       "      <td>16.93</td>\n",
       "      <td>16.85</td>\n",
       "      <td>17.01</td>\n",
       "      <td>17.08</td>\n",
       "      <td>17.07</td>\n",
       "      <td>59854.00</td>\n",
       "    </tr>\n",
       "    <tr>\n",
       "      <th>25%</th>\n",
       "      <td>19.85</td>\n",
       "      <td>19.13</td>\n",
       "      <td>19.04</td>\n",
       "      <td>19.03</td>\n",
       "      <td>18.70</td>\n",
       "      <td>18.19</td>\n",
       "      <td>60788.37</td>\n",
       "    </tr>\n",
       "    <tr>\n",
       "      <th>50%</th>\n",
       "      <td>22.45</td>\n",
       "      <td>21.83</td>\n",
       "      <td>20.87</td>\n",
       "      <td>20.16</td>\n",
       "      <td>19.22</td>\n",
       "      <td>18.43</td>\n",
       "      <td>61680.17</td>\n",
       "    </tr>\n",
       "    <tr>\n",
       "      <th>75%</th>\n",
       "      <td>22.56</td>\n",
       "      <td>21.96</td>\n",
       "      <td>20.95</td>\n",
       "      <td>20.21</td>\n",
       "      <td>19.25</td>\n",
       "      <td>18.44</td>\n",
       "      <td>62615.11</td>\n",
       "    </tr>\n",
       "    <tr>\n",
       "      <th>max</th>\n",
       "      <td>22.61</td>\n",
       "      <td>22.07</td>\n",
       "      <td>21.03</td>\n",
       "      <td>20.26</td>\n",
       "      <td>19.28</td>\n",
       "      <td>18.47</td>\n",
       "      <td>63506.39</td>\n",
       "    </tr>\n",
       "  </tbody>\n",
       "</table>\n",
       "</div>"
      ],
      "text/plain": [
       "              u         g         r         i         z         y       mjd\n",
       "count 146227.00 146227.00 146227.00 146227.00 146227.00 146227.00 148164.00\n",
       "mean      21.32     20.68     20.05     19.61     18.92     18.28  61691.99\n",
       "std        1.57      1.62      1.20      0.84      0.48      0.26   1054.35\n",
       "min       17.75     16.93     16.85     17.01     17.08     17.07  59854.00\n",
       "25%       19.85     19.13     19.04     19.03     18.70     18.19  60788.37\n",
       "50%       22.45     21.83     20.87     20.16     19.22     18.43  61680.17\n",
       "75%       22.56     21.96     20.95     20.21     19.25     18.44  62615.11\n",
       "max       22.61     22.07     21.03     20.26     19.28     18.47  63506.39"
      ]
     },
     "execution_count": 66,
     "metadata": {},
     "output_type": "execute_result"
    }
   ],
   "source": [
    "sky_mags_x12.describe()"
   ]
  },
  {
   "cell_type": "markdown",
   "metadata": {},
   "source": [
    "## Checking parameters from sims_utils"
   ]
  },
  {
   "cell_type": "code",
   "execution_count": 67,
   "metadata": {},
   "outputs": [
    {
     "name": "stdout",
     "output_type": "stream",
     "text": [
      "               C_m            Delta_C_m_infinity           \n",
      "  overview table 2 sims_utils   overview table 2 sims_utils\n",
      "u            23.09      23.39               0.62       0.37\n",
      "g            24.42      24.51               0.18       0.10\n",
      "r            24.44      24.49               0.10       0.05\n",
      "i            24.32      24.37               0.07       0.04\n",
      "z            24.16      24.20               0.05       0.02\n",
      "y            23.73      23.77               0.04       0.02\n"
     ]
    }
   ],
   "source": [
    "sims_utils_params = pd.DataFrame({'C_m': m5_flat_sed.Cm,\n",
    "                                  'Delta_C_m_infinity': m5_flat_sed.dCm_infinity})\n",
    "param_compare = pd.concat([overview_table2[sims_utils_params.columns], sims_utils_params], keys=['overview table 2', 'sims_utils'], axis=1).reorder_levels((1,0), axis=1)\n",
    "param_compare = param_compare.reindex(sorted(param_compare.columns), axis=1)\n",
    "print(param_compare)"
   ]
  },
  {
   "cell_type": "markdown",
   "metadata": {},
   "source": [
    "## Coadd-depth based $t_{\\mbox{eff}}$"
   ]
  },
  {
   "cell_type": "code",
   "execution_count": 68,
   "metadata": {},
   "outputs": [
    {
     "data": {
      "text/html": [
       "<div>\n",
       "<style scoped>\n",
       "    .dataframe tbody tr th:only-of-type {\n",
       "        vertical-align: middle;\n",
       "    }\n",
       "\n",
       "    .dataframe tbody tr th {\n",
       "        vertical-align: top;\n",
       "    }\n",
       "\n",
       "    .dataframe thead th {\n",
       "        text-align: right;\n",
       "    }\n",
       "</style>\n",
       "<table border=\"1\" class=\"dataframe\">\n",
       "  <thead>\n",
       "    <tr style=\"text-align: right;\">\n",
       "      <th></th>\n",
       "      <th>mag</th>\n",
       "      <th>visits</th>\n",
       "      <th>m0</th>\n",
       "      <th>prog</th>\n",
       "      <th>round</th>\n",
       "      <th>m0_visit_teff</th>\n",
       "      <th>prog_visit_teff</th>\n",
       "      <th>round_visit_teff</th>\n",
       "    </tr>\n",
       "    <tr>\n",
       "      <th>band</th>\n",
       "      <th></th>\n",
       "      <th></th>\n",
       "      <th></th>\n",
       "      <th></th>\n",
       "      <th></th>\n",
       "      <th></th>\n",
       "      <th></th>\n",
       "      <th></th>\n",
       "    </tr>\n",
       "  </thead>\n",
       "  <tbody>\n",
       "    <tr>\n",
       "      <th>u</th>\n",
       "      <td>26.10</td>\n",
       "      <td>56</td>\n",
       "      <td>23.91</td>\n",
       "      <td>23.46</td>\n",
       "      <td>23.50</td>\n",
       "      <td>0.42</td>\n",
       "      <td>0.97</td>\n",
       "      <td>0.90</td>\n",
       "    </tr>\n",
       "    <tr>\n",
       "      <th>g</th>\n",
       "      <td>27.40</td>\n",
       "      <td>80</td>\n",
       "      <td>25.02</td>\n",
       "      <td>24.45</td>\n",
       "      <td>24.50</td>\n",
       "      <td>0.38</td>\n",
       "      <td>1.09</td>\n",
       "      <td>1.00</td>\n",
       "    </tr>\n",
       "    <tr>\n",
       "      <th>r</th>\n",
       "      <td>27.50</td>\n",
       "      <td>184</td>\n",
       "      <td>24.67</td>\n",
       "      <td>24.03</td>\n",
       "      <td>24.00</td>\n",
       "      <td>0.32</td>\n",
       "      <td>1.05</td>\n",
       "      <td>1.11</td>\n",
       "    </tr>\n",
       "    <tr>\n",
       "      <th>i</th>\n",
       "      <td>26.80</td>\n",
       "      <td>184</td>\n",
       "      <td>23.97</td>\n",
       "      <td>23.58</td>\n",
       "      <td>24.00</td>\n",
       "      <td>0.42</td>\n",
       "      <td>0.86</td>\n",
       "      <td>0.40</td>\n",
       "    </tr>\n",
       "    <tr>\n",
       "      <th>z</th>\n",
       "      <td>26.10</td>\n",
       "      <td>160</td>\n",
       "      <td>23.34</td>\n",
       "      <td>22.74</td>\n",
       "      <td>23.00</td>\n",
       "      <td>0.40</td>\n",
       "      <td>1.22</td>\n",
       "      <td>0.75</td>\n",
       "    </tr>\n",
       "    <tr>\n",
       "      <th>y</th>\n",
       "      <td>24.90</td>\n",
       "      <td>160</td>\n",
       "      <td>22.14</td>\n",
       "      <td>22.04</td>\n",
       "      <td>22.50</td>\n",
       "      <td>0.85</td>\n",
       "      <td>1.02</td>\n",
       "      <td>0.44</td>\n",
       "    </tr>\n",
       "  </tbody>\n",
       "</table>\n",
       "</div>"
      ],
      "text/plain": [
       "       mag  visits    m0  prog  round  m0_visit_teff  prog_visit_teff  \\\n",
       "band                                                                    \n",
       "u    26.10      56 23.91 23.46  23.50           0.42             0.97   \n",
       "g    27.40      80 25.02 24.45  24.50           0.38             1.09   \n",
       "r    27.50     184 24.67 24.03  24.00           0.32             1.05   \n",
       "i    26.80     184 23.97 23.58  24.00           0.42             0.86   \n",
       "z    26.10     160 23.34 22.74  23.00           0.40             1.22   \n",
       "y    24.90     160 22.14 22.04  22.50           0.85             1.02   \n",
       "\n",
       "      round_visit_teff  \n",
       "band                    \n",
       "u                 0.90  \n",
       "g                 1.00  \n",
       "r                 1.11  \n",
       "i                 0.40  \n",
       "z                 0.75  \n",
       "y                 0.44  "
      ]
     },
     "execution_count": 68,
     "metadata": {},
     "output_type": "execute_result"
    }
   ],
   "source": [
    "coadd_depth = pd.DataFrame({'mag': [26.1, 27.4, 27.5, 26.8, 26.1, 24.9],\n",
    "                            'visits': [56, 80, 184, 184, 160, 160]}, index=bands.band).reindex(visits.index)\n",
    "coadd_depth['m0'] = coadd_depth.mag - 1.25*np.log10(coadd_depth.visits)\n",
    "coadd_depth['prog'] = m5prog.moon\n",
    "coadd_depth['round'] = np.round(m5prog.sky*2)/2\n",
    "coadd_depth['m0_visit_teff'] = (10**(0.8*(visits.fiveSigmaDepth - coadd_depth.m0))).groupby('band').mean()\n",
    "coadd_depth['prog_visit_teff'] = (10**(0.8*(visits.fiveSigmaDepth - coadd_depth.prog))).groupby('band').mean()\n",
    "coadd_depth['round_visit_teff'] = (10**(0.8*(visits.fiveSigmaDepth - coadd_depth['round']))).groupby('band').mean()\n",
    "coadd_depth.groupby('band').first().loc[bands.band]"
   ]
  },
  {
   "cell_type": "markdown",
   "metadata": {},
   "source": [
    "## Best possible as reference for $t_{\\mbox{eff}}$"
   ]
  },
  {
   "cell_type": "code",
   "execution_count": 69,
   "metadata": {},
   "outputs": [
    {
     "data": {
      "text/plain": [
       "0   24.56\n",
       "1   25.51\n",
       "2   25.01\n",
       "3   24.52\n",
       "4   23.87\n",
       "5   23.02\n",
       "dtype: float64"
      ]
     },
     "execution_count": 69,
     "metadata": {},
     "output_type": "execute_result"
    }
   ],
   "source": [
    "overview_table2.reset_index().apply(\n",
    "        lambda r: m5_flat_sed(r['band'],\n",
    "                              dark_sky_mags[r['band']].max(),\n",
    "                              pd.Series(seeing_model(0.0, 1.0)['fwhmEff'], index=bands.index)[r['band']],\n",
    "                              expTime=15, airmass=1, nexp=2), axis=1)"
   ]
  },
  {
   "cell_type": "code",
   "execution_count": 70,
   "metadata": {},
   "outputs": [
    {
     "data": {
      "text/html": [
       "<div>\n",
       "<style scoped>\n",
       "    .dataframe tbody tr th:only-of-type {\n",
       "        vertical-align: middle;\n",
       "    }\n",
       "\n",
       "    .dataframe tbody tr th {\n",
       "        vertical-align: top;\n",
       "    }\n",
       "\n",
       "    .dataframe thead th {\n",
       "        text-align: right;\n",
       "    }\n",
       "</style>\n",
       "<table border=\"1\" class=\"dataframe\">\n",
       "  <thead>\n",
       "    <tr style=\"text-align: right;\">\n",
       "      <th></th>\n",
       "      <th>m5</th>\n",
       "      <th>round_best</th>\n",
       "      <th>m5 mean teff</th>\n",
       "      <th>round mean teff</th>\n",
       "    </tr>\n",
       "    <tr>\n",
       "      <th>band</th>\n",
       "      <th></th>\n",
       "      <th></th>\n",
       "      <th></th>\n",
       "      <th></th>\n",
       "    </tr>\n",
       "  </thead>\n",
       "  <tbody>\n",
       "    <tr>\n",
       "      <th>u</th>\n",
       "      <td>24.56</td>\n",
       "      <td>24.50</td>\n",
       "      <td>3.81</td>\n",
       "      <td>4.30</td>\n",
       "    </tr>\n",
       "    <tr>\n",
       "      <th>g</th>\n",
       "      <td>25.51</td>\n",
       "      <td>25.50</td>\n",
       "      <td>4.63</td>\n",
       "      <td>4.74</td>\n",
       "    </tr>\n",
       "    <tr>\n",
       "      <th>r</th>\n",
       "      <td>25.01</td>\n",
       "      <td>25.00</td>\n",
       "      <td>5.19</td>\n",
       "      <td>5.26</td>\n",
       "    </tr>\n",
       "    <tr>\n",
       "      <th>i</th>\n",
       "      <td>24.52</td>\n",
       "      <td>24.50</td>\n",
       "      <td>4.56</td>\n",
       "      <td>4.74</td>\n",
       "    </tr>\n",
       "    <tr>\n",
       "      <th>z</th>\n",
       "      <td>23.87</td>\n",
       "      <td>24.00</td>\n",
       "      <td>4.55</td>\n",
       "      <td>3.55</td>\n",
       "    </tr>\n",
       "    <tr>\n",
       "      <th>y</th>\n",
       "      <td>23.02</td>\n",
       "      <td>23.00</td>\n",
       "      <td>5.06</td>\n",
       "      <td>5.26</td>\n",
       "    </tr>\n",
       "  </tbody>\n",
       "</table>\n",
       "</div>"
      ],
      "text/plain": [
       "        m5  round_best  m5 mean teff  round mean teff\n",
       "band                                                 \n",
       "u    24.56       24.50          3.81             4.30\n",
       "g    25.51       25.50          4.63             4.74\n",
       "r    25.01       25.00          5.19             5.26\n",
       "i    24.52       24.50          4.56             4.74\n",
       "z    23.87       24.00          4.55             3.55\n",
       "y    23.02       23.00          5.06             5.26"
      ]
     },
     "execution_count": 70,
     "metadata": {},
     "output_type": "execute_result"
    }
   ],
   "source": [
    "best_m5 = pd.DataFrame({\n",
    "    'm5': overview_table2.reset_index().apply(lambda r: m5_flat_sed(r['band'],\n",
    "                                                                    dark_sky_mags[r['band']].max(),\n",
    "                                                                    pd.Series(seeing_model(0.0, 1.0)['fwhmEff'], index=bands.index)[r['band']],\n",
    "                                                                    expTime=15, airmass=1, nexp=2), axis=1).values},\n",
    "    index=bands.band)\n",
    "best_m5['round_best'] = np.round(best_m5.m5*2)/2\n",
    "best_m5['m5 mean teff'] = 30*(10**(0.8*(visits.fiveSigmaDepth - best_m5.reindex(visits.index).m5))).groupby('band').mean()\n",
    "best_m5['round mean teff'] = 30*(10**(0.8*(visits.fiveSigmaDepth - best_m5.reindex(visits.index).round_best))).groupby('band').mean()\n",
    "best_m5"
   ]
  },
  {
   "cell_type": "markdown",
   "metadata": {},
   "source": [
    "### Distributions of t_eff in units of ideal visits, unrounded reference points"
   ]
  },
  {
   "cell_type": "code",
   "execution_count": 71,
   "metadata": {},
   "outputs": [
    {
     "data": {
      "image/png": "[encoded data removed]",
      "text/plain": [
       "<Figure size 576x360 with 6 Axes>"
      ]
     },
     "metadata": {},
     "output_type": "display_data"
    }
   ],
   "source": [
    "teff = (10**(0.8*(visits.fiveSigmaDepth - best_m5.reindex(visits.index).m5)))\n",
    "fig, axes = plt.subplots(3,2, sharex=True, sharey=True)\n",
    "for band, ax in zip(bands.band, axes.flatten()):\n",
    "    teff[band].hist(bins=np.arange(20)/30, ax=ax, density=True)\n",
    "    ax.text(0.97, 0.95, band, horizontalalignment='right', verticalalignment='top', transform=ax.transAxes)\n",
    "    ax.set_yticklabels([])\n",
    "plt.tight_layout()"
   ]
  },
  {
   "cell_type": "markdown",
   "metadata": {},
   "source": [
    "### Distributions in units of ideal seconds, unrounded reference points"
   ]
  },
  {
   "cell_type": "code",
   "execution_count": 72,
   "metadata": {},
   "outputs": [
    {
     "data": {
      "image/png": "[encoded data removed]",
      "text/plain": [
       "<Figure size 576x360 with 6 Axes>"
      ]
     },
     "metadata": {},
     "output_type": "display_data"
    }
   ],
   "source": [
    "teff = 30*(10**(0.8*(visits.fiveSigmaDepth - best_m5.reindex(visits.index).m5)))\n",
    "fig, axes = plt.subplots(3,2, sharex=True, sharey=True)\n",
    "for band, ax in zip(bands.band, axes.flatten()):\n",
    "    teff[band].hist(bins=np.arange(20), ax=ax, density=True)\n",
    "    ax.text(0.97, 0.95, band, horizontalalignment='right', verticalalignment='top', transform=ax.transAxes)\n",
    "    ax.set_yticklabels([])\n",
    "plt.tight_layout()"
   ]
  },
  {
   "cell_type": "markdown",
   "metadata": {},
   "source": [
    "### Distributions in unites of ideal seconds, rounded reference points"
   ]
  },
  {
   "cell_type": "code",
   "execution_count": 73,
   "metadata": {},
   "outputs": [],
   "source": [
    "round_teff = 30*(10**(0.8*(visits.fiveSigmaDepth - best_m5.reindex(visits.index).round_best)))"
   ]
  },
  {
   "cell_type": "code",
   "execution_count": 74,
   "metadata": {},
   "outputs": [
    {
     "data": {
      "image/png": "[encoded data removed]",
      "text/plain": [
       "<Figure size 576x360 with 6 Axes>"
      ]
     },
     "metadata": {},
     "output_type": "display_data"
    }
   ],
   "source": [
    "fig, axes = plt.subplots(3,2, sharex=True, sharey=True)\n",
    "for band, ax in zip(bands.band, axes.flatten()):\n",
    "    round_teff[band].hist(bins=np.arange(20), ax=ax, density=True)\n",
    "    ax.text(0.97, 0.95, band, horizontalalignment='right', verticalalignment='top', transform=ax.transAxes)\n",
    "    ax.set_yticklabels([])\n",
    "plt.tight_layout()"
   ]
  },
  {
   "cell_type": "code",
   "execution_count": null,
   "metadata": {},
   "outputs": [],
   "source": []
  },
  {
   "cell_type": "code",
   "execution_count": null,
   "metadata": {},
   "outputs": [],
   "source": []
  }
 ],
 "metadata": {
  "kernelspec": {
   "display_name": "Python3 (LSST MAF)",
   "language": "python",
   "name": "lsst_maf"
  },
  "language_info": {
   "codemirror_mode": {
    "name": "ipython",
    "version": 3
   },
   "file_extension": ".py",
   "mimetype": "text/x-python",
   "name": "python",
   "nbconvert_exporter": "python",
   "pygments_lexer": "ipython3",
   "version": "3.9.5"
  }
 },
 "nbformat": 4,
 "nbformat_minor": 2
}
