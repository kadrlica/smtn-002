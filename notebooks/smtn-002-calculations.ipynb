{
 "cells": [
  {
   "cell_type": "markdown",
   "id": "333cfc4d-37eb-4f10-80d5-103af6915d69",
   "metadata": {},
   "source": [
    "Create markdown tables for use in SMTN-002"
   ]
  },
  {
   "cell_type": "markdown",
   "id": "4d31b743-f07d-4dc4-be64-0a47da0d132d",
   "metadata": {},
   "source": [
    "The tables in SMTN-002 include:  \n",
    "* zeropoints (zp_1s) for the telescope, for each filter.\n",
    "* skybrightness / skycounts per filter\n",
    "* FWHMeff fiducial values\n",
    "* m5 in each bandpass for dark-sky,zenith\n",
    "* Cm, dCm_infinity, k_atm"
   ]
  },
  {
   "cell_type": "code",
   "execution_count": null,
   "id": "d11f3e1d-6f65-4f68-9909-d594ca85ba18",
   "metadata": {},
   "outputs": [],
   "source": [
    "import os\n",
    "import shutil\n",
    "import subprocess\n",
    "import numpy as np\n",
    "import matplotlib.pyplot as plt\n",
    "import pandas as pd\n",
    "import rubin_sim.phot_utils as phot_utils\n",
    "import syseng_throughputs as se"
   ]
  },
  {
   "cell_type": "markdown",
   "id": "65ba470e-c385-4391-a97a-03ebedd3bb85",
   "metadata": {},
   "source": [
    "Load throughput components up directly from SE \n",
    "See github repo: https://github.com/lsst-pst/syseng_throughputs"
   ]
  },
  {
   "cell_type": "code",
   "execution_count": null,
   "id": "cee0cdc5-d5f2-4bef-9e99-c20b0e6858f4",
   "metadata": {},
   "outputs": [],
   "source": [
    "defaultDirs = se.setDefaultDirs()\n",
    "defaultDirs"
   ]
  },
  {
   "cell_type": "code",
   "execution_count": null,
   "id": "c49c14fc-e148-4e8f-9347-06d3d89d0a50",
   "metadata": {},
   "outputs": [],
   "source": [
    "atmos = phot_utils.Bandpass()\n",
    "atmos.read_throughput(os.path.join(defaultDirs['atmosphere'], 'atmos_10_aerosol.dat'))\n",
    "\n",
    "darksky = phot_utils.Sed()\n",
    "darksky.read_sed_flambda(os.path.join(defaultDirs['atmosphere'], 'darksky.dat'))"
   ]
  },
  {
   "cell_type": "code",
   "execution_count": null,
   "id": "f59b33b4-a287-4fa3-aa63-09f5d0b923e8",
   "metadata": {},
   "outputs": [],
   "source": [
    "# Check version information: \n",
    "rootDir = defaultDirs['atmosphere'].replace('/siteProperties', '')\n",
    "gitcommand = f\"cd {rootDir} ; git describe\"\n",
    "ret = subprocess.run(gitcommand, capture_output=True, shell=True)\n",
    "print(\"Syseng_throughputs repo is at version: \", ret.stdout.decode())"
   ]
  },
  {
   "cell_type": "code",
   "execution_count": null,
   "id": "992773cc-967c-468d-99a3-8014cb148aae",
   "metadata": {},
   "outputs": [],
   "source": [
    "# Create equivalent of sims syeng_values file .. this should have the Cm/etc values we want. \n",
    "\n",
    "addLosses = True\n",
    "hardware, system = se.buildHardwareAndSystem(defaultDirs, addLosses, atmosphereOverride=atmos)\n",
    "\n",
    "# --note these are 1x30s and the overview paper uses 2x15s!!! \n",
    "# (this is used as the 'base exposure time' in sysEngVals and the m5 calculation from Cm/dCm_infinity)\n",
    "# Note also this is using fiducial (old) values of the seeing to set the m5 values as well. \n",
    "# thus the resulting values are different than those reported in pstn-054, where the Cm/dCm reported values are \n",
    "# for the median delivered seeing in the opsim databases.\n",
    "\n",
    "exptime = 30\n",
    "nexp = 1\n",
    "m5_1 = se.makeM5(hardware, system, \n",
    "                   exptime={'u': exptime, 'g': exptime, 'r': exptime, 'i': exptime, 'z': exptime, 'y': exptime},\n",
    "                   nexp={'u': nexp, 'g': nexp, 'r': nexp, 'i': nexp, 'z': nexp, 'y': nexp},\n",
    "                   readnoise=8.8, othernoise=0, darkcurrent=0.2)\n",
    "\n",
    "m5_1.round(2)"
   ]
  },
  {
   "cell_type": "code",
   "execution_count": null,
   "id": "e88237f5-cb27-41e4-bbb5-e22437df6225",
   "metadata": {},
   "outputs": [],
   "source": [
    "# as an example .. if we used 1x30s for u band and 2x15s for the other bands .. \n",
    "\n",
    "exptime = 15\n",
    "nexp = 2\n",
    "m5_o = se.makeM5(hardware, system, \n",
    "                   exptime={'u': 30, 'g': exptime, 'r': exptime, 'i': exptime, 'z': exptime, 'y': exptime},\n",
    "                   nexp={'u': 1, 'g': nexp, 'r': nexp, 'i': nexp, 'z': nexp, 'y': nexp},\n",
    "                   readnoise=8.8, othernoise=0, darkcurrent=0.2)\n",
    "\n",
    "m5_o.round(2)"
   ]
  },
  {
   "cell_type": "markdown",
   "id": "4934219c-7b91-4e3a-aaf5-7595d3670b10",
   "metadata": {},
   "source": [
    "Ok, so what values should we put into the SMTN-002 technote? \n",
    "The technote focuses on 1x30s visits, so let's use those. "
   ]
  },
  {
   "cell_type": "code",
   "execution_count": null,
   "id": "fdede152-f02d-4695-8a07-f4dc5f5e0278",
   "metadata": {},
   "outputs": [],
   "source": [
    "print(pd.DataFrame(m5_1['Zp_t'].round(2)).to_markdown())"
   ]
  },
  {
   "cell_type": "code",
   "execution_count": null,
   "id": "dc013163-731e-4cf0-83e6-0f35f6e04b4f",
   "metadata": {},
   "outputs": [],
   "source": [
    "print(pd.DataFrame(m5_1['skyMag'].round(2)).to_markdown())"
   ]
  },
  {
   "cell_type": "code",
   "execution_count": null,
   "id": "af98a499-ee72-4d08-8972-16d60d2c60e5",
   "metadata": {},
   "outputs": [],
   "source": [
    "print(pd.DataFrame(m5_1['FWHMeff'].round(2)).to_markdown())"
   ]
  },
  {
   "cell_type": "code",
   "execution_count": null,
   "id": "ae0c32c1-be04-4a3a-b446-6726a5e9ee1f",
   "metadata": {},
   "outputs": [],
   "source": [
    "print(pd.DataFrame(m5_1['m5'].round(2)).to_markdown())"
   ]
  },
  {
   "cell_type": "code",
   "execution_count": null,
   "id": "7c0ea4f3-8912-4dce-9513-d7277ab5b9d4",
   "metadata": {},
   "outputs": [],
   "source": [
    "print(pd.DataFrame(m5_1[['Cm', 'dCm_infinity', 'kAtm']].round(2)).to_markdown())"
   ]
  },
  {
   "cell_type": "code",
   "execution_count": null,
   "id": "232fdda6-80f7-4211-b418-c89afebe1f91",
   "metadata": {},
   "outputs": [],
   "source": []
  }
 ],
 "metadata": {
  "kernelspec": {
   "display_name": "Python 3 (ipykernel)",
   "language": "python",
   "name": "python3"
  },
  "language_info": {
   "codemirror_mode": {
    "name": "ipython",
    "version": 3
   },
   "file_extension": ".py",
   "mimetype": "text/x-python",
   "name": "python",
   "nbconvert_exporter": "python",
   "pygments_lexer": "ipython3",
   "version": "3.11.6"
  }
 },
 "nbformat": 4,
 "nbformat_minor": 5
}
